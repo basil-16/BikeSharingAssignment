{
 "cells": [
  {
   "cell_type": "code",
   "execution_count": 1,
   "id": "c9a14573",
   "metadata": {},
   "outputs": [],
   "source": [
    "import pandas as pd\n",
    "import numpy as np\n",
    "import matplotlib.pyplot as plt\n",
    "import seaborn as sns\n",
    "\n",
    "from sklearn.preprocessing import MinMaxScaler\n",
    "from sklearn.model_selection import train_test_split\n",
    "from sklearn.linear_model import LinearRegression\n",
    "from sklearn.feature_selection import RFE\n",
    "from sklearn.metrics import r2_score\n",
    "\n",
    "from statsmodels.api import OLS\n",
    "from statsmodels.stats.outliers_influence import variance_inflation_factor\n",
    "import statsmodels.api as sm\n",
    "\n",
    "\n",
    "from scipy import stats"
   ]
  },
  {
   "cell_type": "code",
   "execution_count": 2,
   "id": "e89c81aa",
   "metadata": {},
   "outputs": [],
   "source": [
    "data = pd.read_csv(\"day.csv\") #mention your path here; in my case the file is in the same directory"
   ]
  },
  {
   "cell_type": "code",
   "execution_count": 3,
   "id": "85d9f5ff",
   "metadata": {},
   "outputs": [
    {
     "data": {
      "text/html": [
       "<div>\n",
       "<style scoped>\n",
       "    .dataframe tbody tr th:only-of-type {\n",
       "        vertical-align: middle;\n",
       "    }\n",
       "\n",
       "    .dataframe tbody tr th {\n",
       "        vertical-align: top;\n",
       "    }\n",
       "\n",
       "    .dataframe thead th {\n",
       "        text-align: right;\n",
       "    }\n",
       "</style>\n",
       "<table border=\"1\" class=\"dataframe\">\n",
       "  <thead>\n",
       "    <tr style=\"text-align: right;\">\n",
       "      <th></th>\n",
       "      <th>instant</th>\n",
       "      <th>dteday</th>\n",
       "      <th>season</th>\n",
       "      <th>yr</th>\n",
       "      <th>mnth</th>\n",
       "      <th>holiday</th>\n",
       "      <th>weekday</th>\n",
       "      <th>workingday</th>\n",
       "      <th>weathersit</th>\n",
       "      <th>temp</th>\n",
       "      <th>atemp</th>\n",
       "      <th>hum</th>\n",
       "      <th>windspeed</th>\n",
       "      <th>casual</th>\n",
       "      <th>registered</th>\n",
       "      <th>cnt</th>\n",
       "    </tr>\n",
       "  </thead>\n",
       "  <tbody>\n",
       "    <tr>\n",
       "      <th>0</th>\n",
       "      <td>1</td>\n",
       "      <td>01-01-2018</td>\n",
       "      <td>1</td>\n",
       "      <td>0</td>\n",
       "      <td>1</td>\n",
       "      <td>0</td>\n",
       "      <td>6</td>\n",
       "      <td>0</td>\n",
       "      <td>2</td>\n",
       "      <td>14.110847</td>\n",
       "      <td>18.18125</td>\n",
       "      <td>80.5833</td>\n",
       "      <td>10.749882</td>\n",
       "      <td>331</td>\n",
       "      <td>654</td>\n",
       "      <td>985</td>\n",
       "    </tr>\n",
       "    <tr>\n",
       "      <th>1</th>\n",
       "      <td>2</td>\n",
       "      <td>02-01-2018</td>\n",
       "      <td>1</td>\n",
       "      <td>0</td>\n",
       "      <td>1</td>\n",
       "      <td>0</td>\n",
       "      <td>0</td>\n",
       "      <td>0</td>\n",
       "      <td>2</td>\n",
       "      <td>14.902598</td>\n",
       "      <td>17.68695</td>\n",
       "      <td>69.6087</td>\n",
       "      <td>16.652113</td>\n",
       "      <td>131</td>\n",
       "      <td>670</td>\n",
       "      <td>801</td>\n",
       "    </tr>\n",
       "    <tr>\n",
       "      <th>2</th>\n",
       "      <td>3</td>\n",
       "      <td>03-01-2018</td>\n",
       "      <td>1</td>\n",
       "      <td>0</td>\n",
       "      <td>1</td>\n",
       "      <td>0</td>\n",
       "      <td>1</td>\n",
       "      <td>1</td>\n",
       "      <td>1</td>\n",
       "      <td>8.050924</td>\n",
       "      <td>9.47025</td>\n",
       "      <td>43.7273</td>\n",
       "      <td>16.636703</td>\n",
       "      <td>120</td>\n",
       "      <td>1229</td>\n",
       "      <td>1349</td>\n",
       "    </tr>\n",
       "    <tr>\n",
       "      <th>3</th>\n",
       "      <td>4</td>\n",
       "      <td>04-01-2018</td>\n",
       "      <td>1</td>\n",
       "      <td>0</td>\n",
       "      <td>1</td>\n",
       "      <td>0</td>\n",
       "      <td>2</td>\n",
       "      <td>1</td>\n",
       "      <td>1</td>\n",
       "      <td>8.200000</td>\n",
       "      <td>10.60610</td>\n",
       "      <td>59.0435</td>\n",
       "      <td>10.739832</td>\n",
       "      <td>108</td>\n",
       "      <td>1454</td>\n",
       "      <td>1562</td>\n",
       "    </tr>\n",
       "    <tr>\n",
       "      <th>4</th>\n",
       "      <td>5</td>\n",
       "      <td>05-01-2018</td>\n",
       "      <td>1</td>\n",
       "      <td>0</td>\n",
       "      <td>1</td>\n",
       "      <td>0</td>\n",
       "      <td>3</td>\n",
       "      <td>1</td>\n",
       "      <td>1</td>\n",
       "      <td>9.305237</td>\n",
       "      <td>11.46350</td>\n",
       "      <td>43.6957</td>\n",
       "      <td>12.522300</td>\n",
       "      <td>82</td>\n",
       "      <td>1518</td>\n",
       "      <td>1600</td>\n",
       "    </tr>\n",
       "  </tbody>\n",
       "</table>\n",
       "</div>"
      ],
      "text/plain": [
       "   instant      dteday  season  yr  mnth  holiday  weekday  workingday  \\\n",
       "0        1  01-01-2018       1   0     1        0        6           0   \n",
       "1        2  02-01-2018       1   0     1        0        0           0   \n",
       "2        3  03-01-2018       1   0     1        0        1           1   \n",
       "3        4  04-01-2018       1   0     1        0        2           1   \n",
       "4        5  05-01-2018       1   0     1        0        3           1   \n",
       "\n",
       "   weathersit       temp     atemp      hum  windspeed  casual  registered  \\\n",
       "0           2  14.110847  18.18125  80.5833  10.749882     331         654   \n",
       "1           2  14.902598  17.68695  69.6087  16.652113     131         670   \n",
       "2           1   8.050924   9.47025  43.7273  16.636703     120        1229   \n",
       "3           1   8.200000  10.60610  59.0435  10.739832     108        1454   \n",
       "4           1   9.305237  11.46350  43.6957  12.522300      82        1518   \n",
       "\n",
       "    cnt  \n",
       "0   985  \n",
       "1   801  \n",
       "2  1349  \n",
       "3  1562  \n",
       "4  1600  "
      ]
     },
     "execution_count": 3,
     "metadata": {},
     "output_type": "execute_result"
    }
   ],
   "source": [
    "data.head()"
   ]
  },
  {
   "cell_type": "code",
   "execution_count": 4,
   "id": "9253560c",
   "metadata": {},
   "outputs": [
    {
     "data": {
      "text/html": [
       "<div>\n",
       "<style scoped>\n",
       "    .dataframe tbody tr th:only-of-type {\n",
       "        vertical-align: middle;\n",
       "    }\n",
       "\n",
       "    .dataframe tbody tr th {\n",
       "        vertical-align: top;\n",
       "    }\n",
       "\n",
       "    .dataframe thead th {\n",
       "        text-align: right;\n",
       "    }\n",
       "</style>\n",
       "<table border=\"1\" class=\"dataframe\">\n",
       "  <thead>\n",
       "    <tr style=\"text-align: right;\">\n",
       "      <th></th>\n",
       "      <th>instant</th>\n",
       "      <th>season</th>\n",
       "      <th>yr</th>\n",
       "      <th>mnth</th>\n",
       "      <th>holiday</th>\n",
       "      <th>weekday</th>\n",
       "      <th>workingday</th>\n",
       "      <th>weathersit</th>\n",
       "      <th>temp</th>\n",
       "      <th>atemp</th>\n",
       "      <th>hum</th>\n",
       "      <th>windspeed</th>\n",
       "      <th>casual</th>\n",
       "      <th>registered</th>\n",
       "      <th>cnt</th>\n",
       "    </tr>\n",
       "  </thead>\n",
       "  <tbody>\n",
       "    <tr>\n",
       "      <th>count</th>\n",
       "      <td>730.000000</td>\n",
       "      <td>730.000000</td>\n",
       "      <td>730.000000</td>\n",
       "      <td>730.000000</td>\n",
       "      <td>730.000000</td>\n",
       "      <td>730.000000</td>\n",
       "      <td>730.000000</td>\n",
       "      <td>730.000000</td>\n",
       "      <td>730.000000</td>\n",
       "      <td>730.000000</td>\n",
       "      <td>730.000000</td>\n",
       "      <td>730.000000</td>\n",
       "      <td>730.000000</td>\n",
       "      <td>730.000000</td>\n",
       "      <td>730.000000</td>\n",
       "    </tr>\n",
       "    <tr>\n",
       "      <th>mean</th>\n",
       "      <td>365.500000</td>\n",
       "      <td>2.498630</td>\n",
       "      <td>0.500000</td>\n",
       "      <td>6.526027</td>\n",
       "      <td>0.028767</td>\n",
       "      <td>2.997260</td>\n",
       "      <td>0.683562</td>\n",
       "      <td>1.394521</td>\n",
       "      <td>20.319259</td>\n",
       "      <td>23.726322</td>\n",
       "      <td>62.765175</td>\n",
       "      <td>12.763620</td>\n",
       "      <td>849.249315</td>\n",
       "      <td>3658.757534</td>\n",
       "      <td>4508.006849</td>\n",
       "    </tr>\n",
       "    <tr>\n",
       "      <th>std</th>\n",
       "      <td>210.877136</td>\n",
       "      <td>1.110184</td>\n",
       "      <td>0.500343</td>\n",
       "      <td>3.450215</td>\n",
       "      <td>0.167266</td>\n",
       "      <td>2.006161</td>\n",
       "      <td>0.465405</td>\n",
       "      <td>0.544807</td>\n",
       "      <td>7.506729</td>\n",
       "      <td>8.150308</td>\n",
       "      <td>14.237589</td>\n",
       "      <td>5.195841</td>\n",
       "      <td>686.479875</td>\n",
       "      <td>1559.758728</td>\n",
       "      <td>1936.011647</td>\n",
       "    </tr>\n",
       "    <tr>\n",
       "      <th>min</th>\n",
       "      <td>1.000000</td>\n",
       "      <td>1.000000</td>\n",
       "      <td>0.000000</td>\n",
       "      <td>1.000000</td>\n",
       "      <td>0.000000</td>\n",
       "      <td>0.000000</td>\n",
       "      <td>0.000000</td>\n",
       "      <td>1.000000</td>\n",
       "      <td>2.424346</td>\n",
       "      <td>3.953480</td>\n",
       "      <td>0.000000</td>\n",
       "      <td>1.500244</td>\n",
       "      <td>2.000000</td>\n",
       "      <td>20.000000</td>\n",
       "      <td>22.000000</td>\n",
       "    </tr>\n",
       "    <tr>\n",
       "      <th>25%</th>\n",
       "      <td>183.250000</td>\n",
       "      <td>2.000000</td>\n",
       "      <td>0.000000</td>\n",
       "      <td>4.000000</td>\n",
       "      <td>0.000000</td>\n",
       "      <td>1.000000</td>\n",
       "      <td>0.000000</td>\n",
       "      <td>1.000000</td>\n",
       "      <td>13.811885</td>\n",
       "      <td>16.889713</td>\n",
       "      <td>52.000000</td>\n",
       "      <td>9.041650</td>\n",
       "      <td>316.250000</td>\n",
       "      <td>2502.250000</td>\n",
       "      <td>3169.750000</td>\n",
       "    </tr>\n",
       "    <tr>\n",
       "      <th>50%</th>\n",
       "      <td>365.500000</td>\n",
       "      <td>3.000000</td>\n",
       "      <td>0.500000</td>\n",
       "      <td>7.000000</td>\n",
       "      <td>0.000000</td>\n",
       "      <td>3.000000</td>\n",
       "      <td>1.000000</td>\n",
       "      <td>1.000000</td>\n",
       "      <td>20.465826</td>\n",
       "      <td>24.368225</td>\n",
       "      <td>62.625000</td>\n",
       "      <td>12.125325</td>\n",
       "      <td>717.000000</td>\n",
       "      <td>3664.500000</td>\n",
       "      <td>4548.500000</td>\n",
       "    </tr>\n",
       "    <tr>\n",
       "      <th>75%</th>\n",
       "      <td>547.750000</td>\n",
       "      <td>3.000000</td>\n",
       "      <td>1.000000</td>\n",
       "      <td>10.000000</td>\n",
       "      <td>0.000000</td>\n",
       "      <td>5.000000</td>\n",
       "      <td>1.000000</td>\n",
       "      <td>2.000000</td>\n",
       "      <td>26.880615</td>\n",
       "      <td>30.445775</td>\n",
       "      <td>72.989575</td>\n",
       "      <td>15.625589</td>\n",
       "      <td>1096.500000</td>\n",
       "      <td>4783.250000</td>\n",
       "      <td>5966.000000</td>\n",
       "    </tr>\n",
       "    <tr>\n",
       "      <th>max</th>\n",
       "      <td>730.000000</td>\n",
       "      <td>4.000000</td>\n",
       "      <td>1.000000</td>\n",
       "      <td>12.000000</td>\n",
       "      <td>1.000000</td>\n",
       "      <td>6.000000</td>\n",
       "      <td>1.000000</td>\n",
       "      <td>3.000000</td>\n",
       "      <td>35.328347</td>\n",
       "      <td>42.044800</td>\n",
       "      <td>97.250000</td>\n",
       "      <td>34.000021</td>\n",
       "      <td>3410.000000</td>\n",
       "      <td>6946.000000</td>\n",
       "      <td>8714.000000</td>\n",
       "    </tr>\n",
       "  </tbody>\n",
       "</table>\n",
       "</div>"
      ],
      "text/plain": [
       "          instant      season          yr        mnth     holiday     weekday  \\\n",
       "count  730.000000  730.000000  730.000000  730.000000  730.000000  730.000000   \n",
       "mean   365.500000    2.498630    0.500000    6.526027    0.028767    2.997260   \n",
       "std    210.877136    1.110184    0.500343    3.450215    0.167266    2.006161   \n",
       "min      1.000000    1.000000    0.000000    1.000000    0.000000    0.000000   \n",
       "25%    183.250000    2.000000    0.000000    4.000000    0.000000    1.000000   \n",
       "50%    365.500000    3.000000    0.500000    7.000000    0.000000    3.000000   \n",
       "75%    547.750000    3.000000    1.000000   10.000000    0.000000    5.000000   \n",
       "max    730.000000    4.000000    1.000000   12.000000    1.000000    6.000000   \n",
       "\n",
       "       workingday  weathersit        temp       atemp         hum   windspeed  \\\n",
       "count  730.000000  730.000000  730.000000  730.000000  730.000000  730.000000   \n",
       "mean     0.683562    1.394521   20.319259   23.726322   62.765175   12.763620   \n",
       "std      0.465405    0.544807    7.506729    8.150308   14.237589    5.195841   \n",
       "min      0.000000    1.000000    2.424346    3.953480    0.000000    1.500244   \n",
       "25%      0.000000    1.000000   13.811885   16.889713   52.000000    9.041650   \n",
       "50%      1.000000    1.000000   20.465826   24.368225   62.625000   12.125325   \n",
       "75%      1.000000    2.000000   26.880615   30.445775   72.989575   15.625589   \n",
       "max      1.000000    3.000000   35.328347   42.044800   97.250000   34.000021   \n",
       "\n",
       "            casual   registered          cnt  \n",
       "count   730.000000   730.000000   730.000000  \n",
       "mean    849.249315  3658.757534  4508.006849  \n",
       "std     686.479875  1559.758728  1936.011647  \n",
       "min       2.000000    20.000000    22.000000  \n",
       "25%     316.250000  2502.250000  3169.750000  \n",
       "50%     717.000000  3664.500000  4548.500000  \n",
       "75%    1096.500000  4783.250000  5966.000000  \n",
       "max    3410.000000  6946.000000  8714.000000  "
      ]
     },
     "execution_count": 4,
     "metadata": {},
     "output_type": "execute_result"
    }
   ],
   "source": [
    "data.describe()"
   ]
  },
  {
   "cell_type": "code",
   "execution_count": 5,
   "id": "cf6953e4",
   "metadata": {},
   "outputs": [
    {
     "data": {
      "text/plain": [
       "(730, 16)"
      ]
     },
     "execution_count": 5,
     "metadata": {},
     "output_type": "execute_result"
    }
   ],
   "source": [
    "data.shape"
   ]
  },
  {
   "cell_type": "code",
   "execution_count": 6,
   "id": "08dcaba3",
   "metadata": {},
   "outputs": [],
   "source": [
    "# Renaming column names for convenience\n",
    "\n",
    "data.rename(columns = {\"mnth\" : \"Month\", \"weathersit\" : \"Weather_condition\", \"hum\" : \"humidity\", \"cnt\" : \"Count\"}, inplace=True)"
   ]
  },
  {
   "cell_type": "code",
   "execution_count": 7,
   "id": "5db9f2f3",
   "metadata": {},
   "outputs": [
    {
     "data": {
      "text/html": [
       "<div>\n",
       "<style scoped>\n",
       "    .dataframe tbody tr th:only-of-type {\n",
       "        vertical-align: middle;\n",
       "    }\n",
       "\n",
       "    .dataframe tbody tr th {\n",
       "        vertical-align: top;\n",
       "    }\n",
       "\n",
       "    .dataframe thead th {\n",
       "        text-align: right;\n",
       "    }\n",
       "</style>\n",
       "<table border=\"1\" class=\"dataframe\">\n",
       "  <thead>\n",
       "    <tr style=\"text-align: right;\">\n",
       "      <th></th>\n",
       "      <th>instant</th>\n",
       "      <th>dteday</th>\n",
       "      <th>season</th>\n",
       "      <th>yr</th>\n",
       "      <th>Month</th>\n",
       "      <th>holiday</th>\n",
       "      <th>weekday</th>\n",
       "      <th>workingday</th>\n",
       "      <th>Weather_condition</th>\n",
       "      <th>temp</th>\n",
       "      <th>atemp</th>\n",
       "      <th>humidity</th>\n",
       "      <th>windspeed</th>\n",
       "      <th>casual</th>\n",
       "      <th>registered</th>\n",
       "      <th>Count</th>\n",
       "    </tr>\n",
       "  </thead>\n",
       "  <tbody>\n",
       "    <tr>\n",
       "      <th>0</th>\n",
       "      <td>1</td>\n",
       "      <td>01-01-2018</td>\n",
       "      <td>1</td>\n",
       "      <td>0</td>\n",
       "      <td>1</td>\n",
       "      <td>0</td>\n",
       "      <td>6</td>\n",
       "      <td>0</td>\n",
       "      <td>2</td>\n",
       "      <td>14.110847</td>\n",
       "      <td>18.18125</td>\n",
       "      <td>80.5833</td>\n",
       "      <td>10.749882</td>\n",
       "      <td>331</td>\n",
       "      <td>654</td>\n",
       "      <td>985</td>\n",
       "    </tr>\n",
       "    <tr>\n",
       "      <th>1</th>\n",
       "      <td>2</td>\n",
       "      <td>02-01-2018</td>\n",
       "      <td>1</td>\n",
       "      <td>0</td>\n",
       "      <td>1</td>\n",
       "      <td>0</td>\n",
       "      <td>0</td>\n",
       "      <td>0</td>\n",
       "      <td>2</td>\n",
       "      <td>14.902598</td>\n",
       "      <td>17.68695</td>\n",
       "      <td>69.6087</td>\n",
       "      <td>16.652113</td>\n",
       "      <td>131</td>\n",
       "      <td>670</td>\n",
       "      <td>801</td>\n",
       "    </tr>\n",
       "    <tr>\n",
       "      <th>2</th>\n",
       "      <td>3</td>\n",
       "      <td>03-01-2018</td>\n",
       "      <td>1</td>\n",
       "      <td>0</td>\n",
       "      <td>1</td>\n",
       "      <td>0</td>\n",
       "      <td>1</td>\n",
       "      <td>1</td>\n",
       "      <td>1</td>\n",
       "      <td>8.050924</td>\n",
       "      <td>9.47025</td>\n",
       "      <td>43.7273</td>\n",
       "      <td>16.636703</td>\n",
       "      <td>120</td>\n",
       "      <td>1229</td>\n",
       "      <td>1349</td>\n",
       "    </tr>\n",
       "    <tr>\n",
       "      <th>3</th>\n",
       "      <td>4</td>\n",
       "      <td>04-01-2018</td>\n",
       "      <td>1</td>\n",
       "      <td>0</td>\n",
       "      <td>1</td>\n",
       "      <td>0</td>\n",
       "      <td>2</td>\n",
       "      <td>1</td>\n",
       "      <td>1</td>\n",
       "      <td>8.200000</td>\n",
       "      <td>10.60610</td>\n",
       "      <td>59.0435</td>\n",
       "      <td>10.739832</td>\n",
       "      <td>108</td>\n",
       "      <td>1454</td>\n",
       "      <td>1562</td>\n",
       "    </tr>\n",
       "    <tr>\n",
       "      <th>4</th>\n",
       "      <td>5</td>\n",
       "      <td>05-01-2018</td>\n",
       "      <td>1</td>\n",
       "      <td>0</td>\n",
       "      <td>1</td>\n",
       "      <td>0</td>\n",
       "      <td>3</td>\n",
       "      <td>1</td>\n",
       "      <td>1</td>\n",
       "      <td>9.305237</td>\n",
       "      <td>11.46350</td>\n",
       "      <td>43.6957</td>\n",
       "      <td>12.522300</td>\n",
       "      <td>82</td>\n",
       "      <td>1518</td>\n",
       "      <td>1600</td>\n",
       "    </tr>\n",
       "  </tbody>\n",
       "</table>\n",
       "</div>"
      ],
      "text/plain": [
       "   instant      dteday  season  yr  Month  holiday  weekday  workingday  \\\n",
       "0        1  01-01-2018       1   0      1        0        6           0   \n",
       "1        2  02-01-2018       1   0      1        0        0           0   \n",
       "2        3  03-01-2018       1   0      1        0        1           1   \n",
       "3        4  04-01-2018       1   0      1        0        2           1   \n",
       "4        5  05-01-2018       1   0      1        0        3           1   \n",
       "\n",
       "   Weather_condition       temp     atemp  humidity  windspeed  casual  \\\n",
       "0                  2  14.110847  18.18125   80.5833  10.749882     331   \n",
       "1                  2  14.902598  17.68695   69.6087  16.652113     131   \n",
       "2                  1   8.050924   9.47025   43.7273  16.636703     120   \n",
       "3                  1   8.200000  10.60610   59.0435  10.739832     108   \n",
       "4                  1   9.305237  11.46350   43.6957  12.522300      82   \n",
       "\n",
       "   registered  Count  \n",
       "0         654    985  \n",
       "1         670    801  \n",
       "2        1229   1349  \n",
       "3        1454   1562  \n",
       "4        1518   1600  "
      ]
     },
     "execution_count": 7,
     "metadata": {},
     "output_type": "execute_result"
    }
   ],
   "source": [
    "data.head()"
   ]
  },
  {
   "cell_type": "code",
   "execution_count": 8,
   "id": "32f6d077",
   "metadata": {},
   "outputs": [
    {
     "data": {
      "text/html": [
       "<div>\n",
       "<style scoped>\n",
       "    .dataframe tbody tr th:only-of-type {\n",
       "        vertical-align: middle;\n",
       "    }\n",
       "\n",
       "    .dataframe tbody tr th {\n",
       "        vertical-align: top;\n",
       "    }\n",
       "\n",
       "    .dataframe thead th {\n",
       "        text-align: right;\n",
       "    }\n",
       "</style>\n",
       "<table border=\"1\" class=\"dataframe\">\n",
       "  <thead>\n",
       "    <tr style=\"text-align: right;\">\n",
       "      <th></th>\n",
       "      <th>instant</th>\n",
       "      <th>dteday</th>\n",
       "      <th>season</th>\n",
       "      <th>yr</th>\n",
       "      <th>Month</th>\n",
       "      <th>holiday</th>\n",
       "      <th>weekday</th>\n",
       "      <th>workingday</th>\n",
       "      <th>Weather_condition</th>\n",
       "      <th>temp</th>\n",
       "      <th>atemp</th>\n",
       "      <th>humidity</th>\n",
       "      <th>windspeed</th>\n",
       "      <th>casual</th>\n",
       "      <th>registered</th>\n",
       "      <th>Count</th>\n",
       "    </tr>\n",
       "  </thead>\n",
       "  <tbody>\n",
       "    <tr>\n",
       "      <th>710</th>\n",
       "      <td>711</td>\n",
       "      <td>12-12-2019</td>\n",
       "      <td>4</td>\n",
       "      <td>1</td>\n",
       "      <td>12</td>\n",
       "      <td>0</td>\n",
       "      <td>3</td>\n",
       "      <td>1</td>\n",
       "      <td>2</td>\n",
       "      <td>12.197500</td>\n",
       "      <td>14.86690</td>\n",
       "      <td>53.8333</td>\n",
       "      <td>10.916779</td>\n",
       "      <td>310</td>\n",
       "      <td>5009</td>\n",
       "      <td>5319</td>\n",
       "    </tr>\n",
       "    <tr>\n",
       "      <th>711</th>\n",
       "      <td>712</td>\n",
       "      <td>13-12-2019</td>\n",
       "      <td>4</td>\n",
       "      <td>1</td>\n",
       "      <td>12</td>\n",
       "      <td>0</td>\n",
       "      <td>4</td>\n",
       "      <td>1</td>\n",
       "      <td>1</td>\n",
       "      <td>12.129153</td>\n",
       "      <td>14.70940</td>\n",
       "      <td>48.5833</td>\n",
       "      <td>11.666643</td>\n",
       "      <td>425</td>\n",
       "      <td>5107</td>\n",
       "      <td>5532</td>\n",
       "    </tr>\n",
       "    <tr>\n",
       "      <th>712</th>\n",
       "      <td>713</td>\n",
       "      <td>14-12-2019</td>\n",
       "      <td>4</td>\n",
       "      <td>1</td>\n",
       "      <td>12</td>\n",
       "      <td>0</td>\n",
       "      <td>5</td>\n",
       "      <td>1</td>\n",
       "      <td>1</td>\n",
       "      <td>11.548347</td>\n",
       "      <td>14.70960</td>\n",
       "      <td>64.2917</td>\n",
       "      <td>8.792343</td>\n",
       "      <td>429</td>\n",
       "      <td>5182</td>\n",
       "      <td>5611</td>\n",
       "    </tr>\n",
       "    <tr>\n",
       "      <th>713</th>\n",
       "      <td>714</td>\n",
       "      <td>15-12-2019</td>\n",
       "      <td>4</td>\n",
       "      <td>1</td>\n",
       "      <td>12</td>\n",
       "      <td>0</td>\n",
       "      <td>6</td>\n",
       "      <td>0</td>\n",
       "      <td>1</td>\n",
       "      <td>13.290847</td>\n",
       "      <td>16.91915</td>\n",
       "      <td>65.0417</td>\n",
       "      <td>7.125450</td>\n",
       "      <td>767</td>\n",
       "      <td>4280</td>\n",
       "      <td>5047</td>\n",
       "    </tr>\n",
       "    <tr>\n",
       "      <th>714</th>\n",
       "      <td>715</td>\n",
       "      <td>16-12-2019</td>\n",
       "      <td>4</td>\n",
       "      <td>1</td>\n",
       "      <td>12</td>\n",
       "      <td>0</td>\n",
       "      <td>0</td>\n",
       "      <td>0</td>\n",
       "      <td>2</td>\n",
       "      <td>14.862500</td>\n",
       "      <td>18.49690</td>\n",
       "      <td>83.8750</td>\n",
       "      <td>6.749714</td>\n",
       "      <td>538</td>\n",
       "      <td>3248</td>\n",
       "      <td>3786</td>\n",
       "    </tr>\n",
       "    <tr>\n",
       "      <th>715</th>\n",
       "      <td>716</td>\n",
       "      <td>17-12-2019</td>\n",
       "      <td>4</td>\n",
       "      <td>1</td>\n",
       "      <td>12</td>\n",
       "      <td>0</td>\n",
       "      <td>1</td>\n",
       "      <td>1</td>\n",
       "      <td>2</td>\n",
       "      <td>16.126653</td>\n",
       "      <td>20.07500</td>\n",
       "      <td>90.7083</td>\n",
       "      <td>6.583306</td>\n",
       "      <td>212</td>\n",
       "      <td>4373</td>\n",
       "      <td>4585</td>\n",
       "    </tr>\n",
       "    <tr>\n",
       "      <th>716</th>\n",
       "      <td>717</td>\n",
       "      <td>18-12-2019</td>\n",
       "      <td>4</td>\n",
       "      <td>1</td>\n",
       "      <td>12</td>\n",
       "      <td>0</td>\n",
       "      <td>2</td>\n",
       "      <td>1</td>\n",
       "      <td>1</td>\n",
       "      <td>16.844153</td>\n",
       "      <td>20.48540</td>\n",
       "      <td>66.6250</td>\n",
       "      <td>14.834068</td>\n",
       "      <td>433</td>\n",
       "      <td>5124</td>\n",
       "      <td>5557</td>\n",
       "    </tr>\n",
       "    <tr>\n",
       "      <th>717</th>\n",
       "      <td>718</td>\n",
       "      <td>19-12-2019</td>\n",
       "      <td>4</td>\n",
       "      <td>1</td>\n",
       "      <td>12</td>\n",
       "      <td>0</td>\n",
       "      <td>3</td>\n",
       "      <td>1</td>\n",
       "      <td>1</td>\n",
       "      <td>13.632500</td>\n",
       "      <td>17.10810</td>\n",
       "      <td>62.5417</td>\n",
       "      <td>12.334164</td>\n",
       "      <td>333</td>\n",
       "      <td>4934</td>\n",
       "      <td>5267</td>\n",
       "    </tr>\n",
       "    <tr>\n",
       "      <th>718</th>\n",
       "      <td>719</td>\n",
       "      <td>20-12-2019</td>\n",
       "      <td>4</td>\n",
       "      <td>1</td>\n",
       "      <td>12</td>\n",
       "      <td>0</td>\n",
       "      <td>4</td>\n",
       "      <td>1</td>\n",
       "      <td>2</td>\n",
       "      <td>13.530000</td>\n",
       "      <td>16.76085</td>\n",
       "      <td>66.7917</td>\n",
       "      <td>8.875021</td>\n",
       "      <td>314</td>\n",
       "      <td>3814</td>\n",
       "      <td>4128</td>\n",
       "    </tr>\n",
       "    <tr>\n",
       "      <th>719</th>\n",
       "      <td>720</td>\n",
       "      <td>21-12-2019</td>\n",
       "      <td>1</td>\n",
       "      <td>1</td>\n",
       "      <td>12</td>\n",
       "      <td>0</td>\n",
       "      <td>5</td>\n",
       "      <td>1</td>\n",
       "      <td>2</td>\n",
       "      <td>13.393347</td>\n",
       "      <td>15.08835</td>\n",
       "      <td>55.6667</td>\n",
       "      <td>25.083661</td>\n",
       "      <td>221</td>\n",
       "      <td>3402</td>\n",
       "      <td>3623</td>\n",
       "    </tr>\n",
       "    <tr>\n",
       "      <th>720</th>\n",
       "      <td>721</td>\n",
       "      <td>22-12-2019</td>\n",
       "      <td>1</td>\n",
       "      <td>1</td>\n",
       "      <td>12</td>\n",
       "      <td>0</td>\n",
       "      <td>6</td>\n",
       "      <td>0</td>\n",
       "      <td>1</td>\n",
       "      <td>10.899153</td>\n",
       "      <td>11.80565</td>\n",
       "      <td>44.1250</td>\n",
       "      <td>27.292182</td>\n",
       "      <td>205</td>\n",
       "      <td>1544</td>\n",
       "      <td>1749</td>\n",
       "    </tr>\n",
       "    <tr>\n",
       "      <th>721</th>\n",
       "      <td>722</td>\n",
       "      <td>23-12-2019</td>\n",
       "      <td>1</td>\n",
       "      <td>1</td>\n",
       "      <td>12</td>\n",
       "      <td>0</td>\n",
       "      <td>0</td>\n",
       "      <td>0</td>\n",
       "      <td>1</td>\n",
       "      <td>10.079153</td>\n",
       "      <td>12.97355</td>\n",
       "      <td>51.5417</td>\n",
       "      <td>8.916561</td>\n",
       "      <td>408</td>\n",
       "      <td>1379</td>\n",
       "      <td>1787</td>\n",
       "    </tr>\n",
       "    <tr>\n",
       "      <th>722</th>\n",
       "      <td>723</td>\n",
       "      <td>24-12-2019</td>\n",
       "      <td>1</td>\n",
       "      <td>1</td>\n",
       "      <td>12</td>\n",
       "      <td>0</td>\n",
       "      <td>1</td>\n",
       "      <td>1</td>\n",
       "      <td>2</td>\n",
       "      <td>9.483464</td>\n",
       "      <td>12.94500</td>\n",
       "      <td>79.1304</td>\n",
       "      <td>5.174437</td>\n",
       "      <td>174</td>\n",
       "      <td>746</td>\n",
       "      <td>920</td>\n",
       "    </tr>\n",
       "    <tr>\n",
       "      <th>723</th>\n",
       "      <td>724</td>\n",
       "      <td>25-12-2019</td>\n",
       "      <td>1</td>\n",
       "      <td>1</td>\n",
       "      <td>12</td>\n",
       "      <td>1</td>\n",
       "      <td>2</td>\n",
       "      <td>0</td>\n",
       "      <td>2</td>\n",
       "      <td>11.943464</td>\n",
       "      <td>14.72325</td>\n",
       "      <td>73.4783</td>\n",
       "      <td>11.304642</td>\n",
       "      <td>440</td>\n",
       "      <td>573</td>\n",
       "      <td>1013</td>\n",
       "    </tr>\n",
       "    <tr>\n",
       "      <th>724</th>\n",
       "      <td>725</td>\n",
       "      <td>26-12-2019</td>\n",
       "      <td>1</td>\n",
       "      <td>1</td>\n",
       "      <td>12</td>\n",
       "      <td>0</td>\n",
       "      <td>3</td>\n",
       "      <td>1</td>\n",
       "      <td>3</td>\n",
       "      <td>9.976653</td>\n",
       "      <td>11.01665</td>\n",
       "      <td>82.3333</td>\n",
       "      <td>21.208582</td>\n",
       "      <td>9</td>\n",
       "      <td>432</td>\n",
       "      <td>441</td>\n",
       "    </tr>\n",
       "    <tr>\n",
       "      <th>725</th>\n",
       "      <td>726</td>\n",
       "      <td>27-12-2019</td>\n",
       "      <td>1</td>\n",
       "      <td>1</td>\n",
       "      <td>12</td>\n",
       "      <td>0</td>\n",
       "      <td>4</td>\n",
       "      <td>1</td>\n",
       "      <td>2</td>\n",
       "      <td>10.420847</td>\n",
       "      <td>11.33210</td>\n",
       "      <td>65.2917</td>\n",
       "      <td>23.458911</td>\n",
       "      <td>247</td>\n",
       "      <td>1867</td>\n",
       "      <td>2114</td>\n",
       "    </tr>\n",
       "    <tr>\n",
       "      <th>726</th>\n",
       "      <td>727</td>\n",
       "      <td>28-12-2019</td>\n",
       "      <td>1</td>\n",
       "      <td>1</td>\n",
       "      <td>12</td>\n",
       "      <td>0</td>\n",
       "      <td>5</td>\n",
       "      <td>1</td>\n",
       "      <td>2</td>\n",
       "      <td>10.386653</td>\n",
       "      <td>12.75230</td>\n",
       "      <td>59.0000</td>\n",
       "      <td>10.416557</td>\n",
       "      <td>644</td>\n",
       "      <td>2451</td>\n",
       "      <td>3095</td>\n",
       "    </tr>\n",
       "    <tr>\n",
       "      <th>727</th>\n",
       "      <td>728</td>\n",
       "      <td>29-12-2019</td>\n",
       "      <td>1</td>\n",
       "      <td>1</td>\n",
       "      <td>12</td>\n",
       "      <td>0</td>\n",
       "      <td>6</td>\n",
       "      <td>0</td>\n",
       "      <td>2</td>\n",
       "      <td>10.386653</td>\n",
       "      <td>12.12000</td>\n",
       "      <td>75.2917</td>\n",
       "      <td>8.333661</td>\n",
       "      <td>159</td>\n",
       "      <td>1182</td>\n",
       "      <td>1341</td>\n",
       "    </tr>\n",
       "    <tr>\n",
       "      <th>728</th>\n",
       "      <td>729</td>\n",
       "      <td>30-12-2019</td>\n",
       "      <td>1</td>\n",
       "      <td>1</td>\n",
       "      <td>12</td>\n",
       "      <td>0</td>\n",
       "      <td>0</td>\n",
       "      <td>0</td>\n",
       "      <td>1</td>\n",
       "      <td>10.489153</td>\n",
       "      <td>11.58500</td>\n",
       "      <td>48.3333</td>\n",
       "      <td>23.500518</td>\n",
       "      <td>364</td>\n",
       "      <td>1432</td>\n",
       "      <td>1796</td>\n",
       "    </tr>\n",
       "    <tr>\n",
       "      <th>729</th>\n",
       "      <td>730</td>\n",
       "      <td>31-12-2019</td>\n",
       "      <td>1</td>\n",
       "      <td>1</td>\n",
       "      <td>12</td>\n",
       "      <td>0</td>\n",
       "      <td>1</td>\n",
       "      <td>1</td>\n",
       "      <td>2</td>\n",
       "      <td>8.849153</td>\n",
       "      <td>11.17435</td>\n",
       "      <td>57.7500</td>\n",
       "      <td>10.374682</td>\n",
       "      <td>439</td>\n",
       "      <td>2290</td>\n",
       "      <td>2729</td>\n",
       "    </tr>\n",
       "  </tbody>\n",
       "</table>\n",
       "</div>"
      ],
      "text/plain": [
       "     instant      dteday  season  yr  Month  holiday  weekday  workingday  \\\n",
       "710      711  12-12-2019       4   1     12        0        3           1   \n",
       "711      712  13-12-2019       4   1     12        0        4           1   \n",
       "712      713  14-12-2019       4   1     12        0        5           1   \n",
       "713      714  15-12-2019       4   1     12        0        6           0   \n",
       "714      715  16-12-2019       4   1     12        0        0           0   \n",
       "715      716  17-12-2019       4   1     12        0        1           1   \n",
       "716      717  18-12-2019       4   1     12        0        2           1   \n",
       "717      718  19-12-2019       4   1     12        0        3           1   \n",
       "718      719  20-12-2019       4   1     12        0        4           1   \n",
       "719      720  21-12-2019       1   1     12        0        5           1   \n",
       "720      721  22-12-2019       1   1     12        0        6           0   \n",
       "721      722  23-12-2019       1   1     12        0        0           0   \n",
       "722      723  24-12-2019       1   1     12        0        1           1   \n",
       "723      724  25-12-2019       1   1     12        1        2           0   \n",
       "724      725  26-12-2019       1   1     12        0        3           1   \n",
       "725      726  27-12-2019       1   1     12        0        4           1   \n",
       "726      727  28-12-2019       1   1     12        0        5           1   \n",
       "727      728  29-12-2019       1   1     12        0        6           0   \n",
       "728      729  30-12-2019       1   1     12        0        0           0   \n",
       "729      730  31-12-2019       1   1     12        0        1           1   \n",
       "\n",
       "     Weather_condition       temp     atemp  humidity  windspeed  casual  \\\n",
       "710                  2  12.197500  14.86690   53.8333  10.916779     310   \n",
       "711                  1  12.129153  14.70940   48.5833  11.666643     425   \n",
       "712                  1  11.548347  14.70960   64.2917   8.792343     429   \n",
       "713                  1  13.290847  16.91915   65.0417   7.125450     767   \n",
       "714                  2  14.862500  18.49690   83.8750   6.749714     538   \n",
       "715                  2  16.126653  20.07500   90.7083   6.583306     212   \n",
       "716                  1  16.844153  20.48540   66.6250  14.834068     433   \n",
       "717                  1  13.632500  17.10810   62.5417  12.334164     333   \n",
       "718                  2  13.530000  16.76085   66.7917   8.875021     314   \n",
       "719                  2  13.393347  15.08835   55.6667  25.083661     221   \n",
       "720                  1  10.899153  11.80565   44.1250  27.292182     205   \n",
       "721                  1  10.079153  12.97355   51.5417   8.916561     408   \n",
       "722                  2   9.483464  12.94500   79.1304   5.174437     174   \n",
       "723                  2  11.943464  14.72325   73.4783  11.304642     440   \n",
       "724                  3   9.976653  11.01665   82.3333  21.208582       9   \n",
       "725                  2  10.420847  11.33210   65.2917  23.458911     247   \n",
       "726                  2  10.386653  12.75230   59.0000  10.416557     644   \n",
       "727                  2  10.386653  12.12000   75.2917   8.333661     159   \n",
       "728                  1  10.489153  11.58500   48.3333  23.500518     364   \n",
       "729                  2   8.849153  11.17435   57.7500  10.374682     439   \n",
       "\n",
       "     registered  Count  \n",
       "710        5009   5319  \n",
       "711        5107   5532  \n",
       "712        5182   5611  \n",
       "713        4280   5047  \n",
       "714        3248   3786  \n",
       "715        4373   4585  \n",
       "716        5124   5557  \n",
       "717        4934   5267  \n",
       "718        3814   4128  \n",
       "719        3402   3623  \n",
       "720        1544   1749  \n",
       "721        1379   1787  \n",
       "722         746    920  \n",
       "723         573   1013  \n",
       "724         432    441  \n",
       "725        1867   2114  \n",
       "726        2451   3095  \n",
       "727        1182   1341  \n",
       "728        1432   1796  \n",
       "729        2290   2729  "
      ]
     },
     "execution_count": 8,
     "metadata": {},
     "output_type": "execute_result"
    }
   ],
   "source": [
    "data.tail(20) # Checking data consistency"
   ]
  },
  {
   "cell_type": "code",
   "execution_count": 9,
   "id": "ca25a773",
   "metadata": {},
   "outputs": [
    {
     "data": {
      "text/plain": [
       "instant              0\n",
       "dteday               0\n",
       "season               0\n",
       "yr                   0\n",
       "Month                0\n",
       "holiday              0\n",
       "weekday              0\n",
       "workingday           0\n",
       "Weather_condition    0\n",
       "temp                 0\n",
       "atemp                0\n",
       "humidity             0\n",
       "windspeed            0\n",
       "casual               0\n",
       "registered           0\n",
       "Count                0\n",
       "dtype: int64"
      ]
     },
     "execution_count": 9,
     "metadata": {},
     "output_type": "execute_result"
    }
   ],
   "source": [
    "# Let's check for any null columns\n",
    "data.isna().sum()"
   ]
  },
  {
   "cell_type": "code",
   "execution_count": 10,
   "id": "b21e7b3c",
   "metadata": {},
   "outputs": [],
   "source": [
    "# It's good that we have data which has no null value"
   ]
  },
  {
   "cell_type": "markdown",
   "id": "f9667748",
   "metadata": {},
   "source": [
    "## Cleaning the data and running some Quality Checks "
   ]
  },
  {
   "cell_type": "code",
   "execution_count": 11,
   "id": "90924743",
   "metadata": {},
   "outputs": [],
   "source": [
    "# First we will encode certain numerics so that we can undrstand and interprete those variables"
   ]
  },
  {
   "cell_type": "code",
   "execution_count": 12,
   "id": "dd849f87",
   "metadata": {},
   "outputs": [
    {
     "data": {
      "text/html": [
       "<div>\n",
       "<style scoped>\n",
       "    .dataframe tbody tr th:only-of-type {\n",
       "        vertical-align: middle;\n",
       "    }\n",
       "\n",
       "    .dataframe tbody tr th {\n",
       "        vertical-align: top;\n",
       "    }\n",
       "\n",
       "    .dataframe thead th {\n",
       "        text-align: right;\n",
       "    }\n",
       "</style>\n",
       "<table border=\"1\" class=\"dataframe\">\n",
       "  <thead>\n",
       "    <tr style=\"text-align: right;\">\n",
       "      <th></th>\n",
       "      <th>weekday</th>\n",
       "      <th>workingday</th>\n",
       "    </tr>\n",
       "  </thead>\n",
       "  <tbody>\n",
       "    <tr>\n",
       "      <th>0</th>\n",
       "      <td>6</td>\n",
       "      <td>0</td>\n",
       "    </tr>\n",
       "    <tr>\n",
       "      <th>1</th>\n",
       "      <td>0</td>\n",
       "      <td>0</td>\n",
       "    </tr>\n",
       "    <tr>\n",
       "      <th>2</th>\n",
       "      <td>1</td>\n",
       "      <td>1</td>\n",
       "    </tr>\n",
       "    <tr>\n",
       "      <th>3</th>\n",
       "      <td>2</td>\n",
       "      <td>1</td>\n",
       "    </tr>\n",
       "    <tr>\n",
       "      <th>4</th>\n",
       "      <td>3</td>\n",
       "      <td>1</td>\n",
       "    </tr>\n",
       "    <tr>\n",
       "      <th>...</th>\n",
       "      <td>...</td>\n",
       "      <td>...</td>\n",
       "    </tr>\n",
       "    <tr>\n",
       "      <th>725</th>\n",
       "      <td>4</td>\n",
       "      <td>1</td>\n",
       "    </tr>\n",
       "    <tr>\n",
       "      <th>726</th>\n",
       "      <td>5</td>\n",
       "      <td>1</td>\n",
       "    </tr>\n",
       "    <tr>\n",
       "      <th>727</th>\n",
       "      <td>6</td>\n",
       "      <td>0</td>\n",
       "    </tr>\n",
       "    <tr>\n",
       "      <th>728</th>\n",
       "      <td>0</td>\n",
       "      <td>0</td>\n",
       "    </tr>\n",
       "    <tr>\n",
       "      <th>729</th>\n",
       "      <td>1</td>\n",
       "      <td>1</td>\n",
       "    </tr>\n",
       "  </tbody>\n",
       "</table>\n",
       "<p>730 rows × 2 columns</p>\n",
       "</div>"
      ],
      "text/plain": [
       "     weekday  workingday\n",
       "0          6           0\n",
       "1          0           0\n",
       "2          1           1\n",
       "3          2           1\n",
       "4          3           1\n",
       "..       ...         ...\n",
       "725        4           1\n",
       "726        5           1\n",
       "727        6           0\n",
       "728        0           0\n",
       "729        1           1\n",
       "\n",
       "[730 rows x 2 columns]"
      ]
     },
     "execution_count": 12,
     "metadata": {},
     "output_type": "execute_result"
    }
   ],
   "source": [
    "data[[\"weekday\", \"workingday\"]]"
   ]
  },
  {
   "cell_type": "code",
   "execution_count": 13,
   "id": "facfbe58",
   "metadata": {},
   "outputs": [],
   "source": [
    "# 0 Means that the day is not a working day(weekends and holdiays) and 1 means that the day is a working day"
   ]
  },
  {
   "cell_type": "code",
   "execution_count": 14,
   "id": "1bf71bba",
   "metadata": {},
   "outputs": [],
   "source": [
    "# From the information above we can determine the encodings for weekday and they are as follows\n",
    "# The encodings for month is given to us in data dictionary\n",
    "\n",
    "data[\"Month\"] = data.Month.replace([1,2,3,4,5,6,7,8,9,10,11,12], [\"January\", \"February\", \"March\", \"April\", \"May\",\n",
    "                                                                 \"June\", \"July\", \"August\", \"September\", \"October\",\n",
    "                                                                 \"Novermber\", \"December\"])\n",
    "\n",
    "data[\"weekday\"] = data.weekday.replace([0,1,2,3,4,5,6], [\"Tuesday\", \"Wednesday\", \"Thursday\", \"Friday\", \"Saturday\",\n",
    "                                                        \"Sunday\", \"Monday\"])"
   ]
  },
  {
   "cell_type": "code",
   "execution_count": 15,
   "id": "86da800f",
   "metadata": {},
   "outputs": [
    {
     "data": {
      "text/html": [
       "<div>\n",
       "<style scoped>\n",
       "    .dataframe tbody tr th:only-of-type {\n",
       "        vertical-align: middle;\n",
       "    }\n",
       "\n",
       "    .dataframe tbody tr th {\n",
       "        vertical-align: top;\n",
       "    }\n",
       "\n",
       "    .dataframe thead th {\n",
       "        text-align: right;\n",
       "    }\n",
       "</style>\n",
       "<table border=\"1\" class=\"dataframe\">\n",
       "  <thead>\n",
       "    <tr style=\"text-align: right;\">\n",
       "      <th></th>\n",
       "      <th>dteday</th>\n",
       "      <th>Month</th>\n",
       "      <th>weekday</th>\n",
       "    </tr>\n",
       "  </thead>\n",
       "  <tbody>\n",
       "    <tr>\n",
       "      <th>0</th>\n",
       "      <td>01-01-2018</td>\n",
       "      <td>January</td>\n",
       "      <td>Monday</td>\n",
       "    </tr>\n",
       "    <tr>\n",
       "      <th>1</th>\n",
       "      <td>02-01-2018</td>\n",
       "      <td>January</td>\n",
       "      <td>Tuesday</td>\n",
       "    </tr>\n",
       "    <tr>\n",
       "      <th>2</th>\n",
       "      <td>03-01-2018</td>\n",
       "      <td>January</td>\n",
       "      <td>Wednesday</td>\n",
       "    </tr>\n",
       "    <tr>\n",
       "      <th>3</th>\n",
       "      <td>04-01-2018</td>\n",
       "      <td>January</td>\n",
       "      <td>Thursday</td>\n",
       "    </tr>\n",
       "    <tr>\n",
       "      <th>4</th>\n",
       "      <td>05-01-2018</td>\n",
       "      <td>January</td>\n",
       "      <td>Friday</td>\n",
       "    </tr>\n",
       "    <tr>\n",
       "      <th>...</th>\n",
       "      <td>...</td>\n",
       "      <td>...</td>\n",
       "      <td>...</td>\n",
       "    </tr>\n",
       "    <tr>\n",
       "      <th>725</th>\n",
       "      <td>27-12-2019</td>\n",
       "      <td>December</td>\n",
       "      <td>Saturday</td>\n",
       "    </tr>\n",
       "    <tr>\n",
       "      <th>726</th>\n",
       "      <td>28-12-2019</td>\n",
       "      <td>December</td>\n",
       "      <td>Sunday</td>\n",
       "    </tr>\n",
       "    <tr>\n",
       "      <th>727</th>\n",
       "      <td>29-12-2019</td>\n",
       "      <td>December</td>\n",
       "      <td>Monday</td>\n",
       "    </tr>\n",
       "    <tr>\n",
       "      <th>728</th>\n",
       "      <td>30-12-2019</td>\n",
       "      <td>December</td>\n",
       "      <td>Tuesday</td>\n",
       "    </tr>\n",
       "    <tr>\n",
       "      <th>729</th>\n",
       "      <td>31-12-2019</td>\n",
       "      <td>December</td>\n",
       "      <td>Wednesday</td>\n",
       "    </tr>\n",
       "  </tbody>\n",
       "</table>\n",
       "<p>730 rows × 3 columns</p>\n",
       "</div>"
      ],
      "text/plain": [
       "         dteday     Month    weekday\n",
       "0    01-01-2018   January     Monday\n",
       "1    02-01-2018   January    Tuesday\n",
       "2    03-01-2018   January  Wednesday\n",
       "3    04-01-2018   January   Thursday\n",
       "4    05-01-2018   January     Friday\n",
       "..          ...       ...        ...\n",
       "725  27-12-2019  December   Saturday\n",
       "726  28-12-2019  December     Sunday\n",
       "727  29-12-2019  December     Monday\n",
       "728  30-12-2019  December    Tuesday\n",
       "729  31-12-2019  December  Wednesday\n",
       "\n",
       "[730 rows x 3 columns]"
      ]
     },
     "execution_count": 15,
     "metadata": {},
     "output_type": "execute_result"
    }
   ],
   "source": [
    "data[[\"dteday\", \"Month\", \"weekday\"]]"
   ]
  },
  {
   "cell_type": "code",
   "execution_count": 16,
   "id": "dfa96737",
   "metadata": {},
   "outputs": [
    {
     "name": "stdout",
     "output_type": "stream",
     "text": [
      "Unique months are : ['January' 'February' 'March' 'April' 'May' 'June' 'July' 'August'\n",
      " 'September' 'October' 'Novermber' 'December'] \n",
      "\n",
      "Number of unique months are :12\n"
     ]
    }
   ],
   "source": [
    "# Let's run quality checks on month and weekday \n",
    "# Since there are no null values we should some obivous patterns such as the number of unique months cannot exceed 12 \n",
    "# The number of weekdays cannot exceed 6 as we have encoded tuesday as 0\n",
    "\n",
    "print(f\"Unique months are : {data.Month.unique()} \\n\")\n",
    "\n",
    "print(f\"Number of unique months are :{data.Month.nunique()}\")"
   ]
  },
  {
   "cell_type": "code",
   "execution_count": 17,
   "id": "7255ea42",
   "metadata": {},
   "outputs": [
    {
     "name": "stdout",
     "output_type": "stream",
     "text": [
      "Unique weekdays are : ['Monday' 'Tuesday' 'Wednesday' 'Thursday' 'Friday' 'Saturday' 'Sunday'] \n",
      "\n",
      "Number of unique weekdays are :7\n"
     ]
    }
   ],
   "source": [
    "\n",
    "print(f\"Unique weekdays are : {data.weekday.unique()} \\n\")\n",
    "\n",
    "print(f\"Number of unique weekdays are :{data.weekday.nunique()}\")"
   ]
  },
  {
   "cell_type": "code",
   "execution_count": 18,
   "id": "c07a61fa",
   "metadata": {},
   "outputs": [],
   "source": [
    "# We will drop all our uncessary columns at the end"
   ]
  },
  {
   "cell_type": "code",
   "execution_count": 19,
   "id": "40d87c16",
   "metadata": {},
   "outputs": [],
   "source": [
    "# Now we will encode Weather_condition and season and for this we will refer our data dictionary\n",
    "# This will make our data look a little cleaner"
   ]
  },
  {
   "cell_type": "markdown",
   "id": "74ef4b53",
   "metadata": {},
   "source": [
    "### Deciphering \"Weather_condition\" can be a bit tricky; according to the data dictionary provided to us the following is the decoded information\n",
    " - 1: Clear, Few clouds, Partly cloudy, Partly cloudy\n",
    "- 2: Mist + Cloudy, Mist + Broken clouds, Mist + Few clouds, Mist\n",
    "- 3: Light Snow, Light Rain + Thunderstorm + Scattered clouds, Light Rain + Scattered clouds\n",
    "- 4: Heavy Rain + Ice Pallets + Thunderstorm + Mist, Snow + Fog\n",
    "\n",
    "### Just by reading it we can coin our own adjectives to better understand the data in one word\n",
    "- 1 : Ideal\n",
    "- 2 : Misty\n",
    "- 3 : snow_rain\n",
    "- 4 : heavy_snow_rain\n",
    "\n",
    "### For seasons too we will use our data dictionary to coin them\n",
    "- 1:spring \n",
    "- 2:summer\n",
    "- 3:fall\n",
    "- 4:winter"
   ]
  },
  {
   "cell_type": "code",
   "execution_count": 20,
   "id": "df7e0c18",
   "metadata": {},
   "outputs": [
    {
     "name": "stdout",
     "output_type": "stream",
     "text": [
      "[2 1 3]\n",
      "[1 2 3 4]\n"
     ]
    }
   ],
   "source": [
    "print(data.Weather_condition.unique())\n",
    "print(data.season.unique())"
   ]
  },
  {
   "cell_type": "code",
   "execution_count": 21,
   "id": "5021142a",
   "metadata": {},
   "outputs": [],
   "source": [
    "# It looks like our weather_condition has only recorded 3 types of weather\n",
    "\n",
    "data[\"Weather_condition\"] = data[\"Weather_condition\"].replace([1,2,3,4], [\"ideal\", \"misty\", \"snow_rain\", \"heavy_snow_rain\"])\n",
    "data[\"season\"] = data[\"season\"].replace([1,2,3,4], [\"spring\", \"summer\", \"fall\", \"winter\"])"
   ]
  },
  {
   "cell_type": "code",
   "execution_count": 22,
   "id": "583e0dff",
   "metadata": {},
   "outputs": [
    {
     "name": "stdout",
     "output_type": "stream",
     "text": [
      "Unique Weather_conditions are : ['misty' 'ideal' 'snow_rain'] \n",
      "\n",
      "Number of unique Weather_conditions are :3\n"
     ]
    }
   ],
   "source": [
    "print(f\"Unique Weather_conditions are : {data.Weather_condition.unique()} \\n\")\n",
    "\n",
    "print(f\"Number of unique Weather_conditions are :{data.Weather_condition.nunique()}\")"
   ]
  },
  {
   "cell_type": "code",
   "execution_count": 23,
   "id": "7e18fde9",
   "metadata": {},
   "outputs": [
    {
     "name": "stdout",
     "output_type": "stream",
     "text": [
      "Unique seasons are : ['spring' 'summer' 'fall' 'winter'] \n",
      "\n",
      "Number of unique seasons are :4\n"
     ]
    }
   ],
   "source": [
    "print(f\"Unique seasons are : {data.season.unique()} \\n\")\n",
    "\n",
    "print(f\"Number of unique seasons are :{data.season.nunique()}\")"
   ]
  },
  {
   "cell_type": "code",
   "execution_count": 24,
   "id": "1797a382",
   "metadata": {},
   "outputs": [
    {
     "data": {
      "text/html": [
       "<div>\n",
       "<style scoped>\n",
       "    .dataframe tbody tr th:only-of-type {\n",
       "        vertical-align: middle;\n",
       "    }\n",
       "\n",
       "    .dataframe tbody tr th {\n",
       "        vertical-align: top;\n",
       "    }\n",
       "\n",
       "    .dataframe thead th {\n",
       "        text-align: right;\n",
       "    }\n",
       "</style>\n",
       "<table border=\"1\" class=\"dataframe\">\n",
       "  <thead>\n",
       "    <tr style=\"text-align: right;\">\n",
       "      <th></th>\n",
       "      <th>Weather_condition</th>\n",
       "      <th>season</th>\n",
       "    </tr>\n",
       "  </thead>\n",
       "  <tbody>\n",
       "    <tr>\n",
       "      <th>0</th>\n",
       "      <td>misty</td>\n",
       "      <td>spring</td>\n",
       "    </tr>\n",
       "    <tr>\n",
       "      <th>1</th>\n",
       "      <td>misty</td>\n",
       "      <td>spring</td>\n",
       "    </tr>\n",
       "    <tr>\n",
       "      <th>2</th>\n",
       "      <td>ideal</td>\n",
       "      <td>spring</td>\n",
       "    </tr>\n",
       "    <tr>\n",
       "      <th>3</th>\n",
       "      <td>ideal</td>\n",
       "      <td>spring</td>\n",
       "    </tr>\n",
       "    <tr>\n",
       "      <th>4</th>\n",
       "      <td>ideal</td>\n",
       "      <td>spring</td>\n",
       "    </tr>\n",
       "    <tr>\n",
       "      <th>...</th>\n",
       "      <td>...</td>\n",
       "      <td>...</td>\n",
       "    </tr>\n",
       "    <tr>\n",
       "      <th>725</th>\n",
       "      <td>misty</td>\n",
       "      <td>spring</td>\n",
       "    </tr>\n",
       "    <tr>\n",
       "      <th>726</th>\n",
       "      <td>misty</td>\n",
       "      <td>spring</td>\n",
       "    </tr>\n",
       "    <tr>\n",
       "      <th>727</th>\n",
       "      <td>misty</td>\n",
       "      <td>spring</td>\n",
       "    </tr>\n",
       "    <tr>\n",
       "      <th>728</th>\n",
       "      <td>ideal</td>\n",
       "      <td>spring</td>\n",
       "    </tr>\n",
       "    <tr>\n",
       "      <th>729</th>\n",
       "      <td>misty</td>\n",
       "      <td>spring</td>\n",
       "    </tr>\n",
       "  </tbody>\n",
       "</table>\n",
       "<p>730 rows × 2 columns</p>\n",
       "</div>"
      ],
      "text/plain": [
       "    Weather_condition  season\n",
       "0               misty  spring\n",
       "1               misty  spring\n",
       "2               ideal  spring\n",
       "3               ideal  spring\n",
       "4               ideal  spring\n",
       "..                ...     ...\n",
       "725             misty  spring\n",
       "726             misty  spring\n",
       "727             misty  spring\n",
       "728             ideal  spring\n",
       "729             misty  spring\n",
       "\n",
       "[730 rows x 2 columns]"
      ]
     },
     "execution_count": 24,
     "metadata": {},
     "output_type": "execute_result"
    }
   ],
   "source": [
    "data[[\"Weather_condition\", \"season\"]]"
   ]
  },
  {
   "cell_type": "code",
   "execution_count": 25,
   "id": "d475a9c5",
   "metadata": {},
   "outputs": [
    {
     "data": {
      "text/html": [
       "<div>\n",
       "<style scoped>\n",
       "    .dataframe tbody tr th:only-of-type {\n",
       "        vertical-align: middle;\n",
       "    }\n",
       "\n",
       "    .dataframe tbody tr th {\n",
       "        vertical-align: top;\n",
       "    }\n",
       "\n",
       "    .dataframe thead th {\n",
       "        text-align: right;\n",
       "    }\n",
       "</style>\n",
       "<table border=\"1\" class=\"dataframe\">\n",
       "  <thead>\n",
       "    <tr style=\"text-align: right;\">\n",
       "      <th></th>\n",
       "      <th>instant</th>\n",
       "      <th>dteday</th>\n",
       "      <th>season</th>\n",
       "      <th>yr</th>\n",
       "      <th>Month</th>\n",
       "      <th>holiday</th>\n",
       "      <th>weekday</th>\n",
       "      <th>workingday</th>\n",
       "      <th>Weather_condition</th>\n",
       "      <th>temp</th>\n",
       "      <th>atemp</th>\n",
       "      <th>humidity</th>\n",
       "      <th>windspeed</th>\n",
       "      <th>casual</th>\n",
       "      <th>registered</th>\n",
       "      <th>Count</th>\n",
       "    </tr>\n",
       "  </thead>\n",
       "  <tbody>\n",
       "    <tr>\n",
       "      <th>0</th>\n",
       "      <td>1</td>\n",
       "      <td>01-01-2018</td>\n",
       "      <td>spring</td>\n",
       "      <td>0</td>\n",
       "      <td>January</td>\n",
       "      <td>0</td>\n",
       "      <td>Monday</td>\n",
       "      <td>0</td>\n",
       "      <td>misty</td>\n",
       "      <td>14.110847</td>\n",
       "      <td>18.18125</td>\n",
       "      <td>80.5833</td>\n",
       "      <td>10.749882</td>\n",
       "      <td>331</td>\n",
       "      <td>654</td>\n",
       "      <td>985</td>\n",
       "    </tr>\n",
       "    <tr>\n",
       "      <th>1</th>\n",
       "      <td>2</td>\n",
       "      <td>02-01-2018</td>\n",
       "      <td>spring</td>\n",
       "      <td>0</td>\n",
       "      <td>January</td>\n",
       "      <td>0</td>\n",
       "      <td>Tuesday</td>\n",
       "      <td>0</td>\n",
       "      <td>misty</td>\n",
       "      <td>14.902598</td>\n",
       "      <td>17.68695</td>\n",
       "      <td>69.6087</td>\n",
       "      <td>16.652113</td>\n",
       "      <td>131</td>\n",
       "      <td>670</td>\n",
       "      <td>801</td>\n",
       "    </tr>\n",
       "    <tr>\n",
       "      <th>2</th>\n",
       "      <td>3</td>\n",
       "      <td>03-01-2018</td>\n",
       "      <td>spring</td>\n",
       "      <td>0</td>\n",
       "      <td>January</td>\n",
       "      <td>0</td>\n",
       "      <td>Wednesday</td>\n",
       "      <td>1</td>\n",
       "      <td>ideal</td>\n",
       "      <td>8.050924</td>\n",
       "      <td>9.47025</td>\n",
       "      <td>43.7273</td>\n",
       "      <td>16.636703</td>\n",
       "      <td>120</td>\n",
       "      <td>1229</td>\n",
       "      <td>1349</td>\n",
       "    </tr>\n",
       "    <tr>\n",
       "      <th>3</th>\n",
       "      <td>4</td>\n",
       "      <td>04-01-2018</td>\n",
       "      <td>spring</td>\n",
       "      <td>0</td>\n",
       "      <td>January</td>\n",
       "      <td>0</td>\n",
       "      <td>Thursday</td>\n",
       "      <td>1</td>\n",
       "      <td>ideal</td>\n",
       "      <td>8.200000</td>\n",
       "      <td>10.60610</td>\n",
       "      <td>59.0435</td>\n",
       "      <td>10.739832</td>\n",
       "      <td>108</td>\n",
       "      <td>1454</td>\n",
       "      <td>1562</td>\n",
       "    </tr>\n",
       "    <tr>\n",
       "      <th>4</th>\n",
       "      <td>5</td>\n",
       "      <td>05-01-2018</td>\n",
       "      <td>spring</td>\n",
       "      <td>0</td>\n",
       "      <td>January</td>\n",
       "      <td>0</td>\n",
       "      <td>Friday</td>\n",
       "      <td>1</td>\n",
       "      <td>ideal</td>\n",
       "      <td>9.305237</td>\n",
       "      <td>11.46350</td>\n",
       "      <td>43.6957</td>\n",
       "      <td>12.522300</td>\n",
       "      <td>82</td>\n",
       "      <td>1518</td>\n",
       "      <td>1600</td>\n",
       "    </tr>\n",
       "  </tbody>\n",
       "</table>\n",
       "</div>"
      ],
      "text/plain": [
       "   instant      dteday  season  yr    Month  holiday    weekday  workingday  \\\n",
       "0        1  01-01-2018  spring   0  January        0     Monday           0   \n",
       "1        2  02-01-2018  spring   0  January        0    Tuesday           0   \n",
       "2        3  03-01-2018  spring   0  January        0  Wednesday           1   \n",
       "3        4  04-01-2018  spring   0  January        0   Thursday           1   \n",
       "4        5  05-01-2018  spring   0  January        0     Friday           1   \n",
       "\n",
       "  Weather_condition       temp     atemp  humidity  windspeed  casual  \\\n",
       "0             misty  14.110847  18.18125   80.5833  10.749882     331   \n",
       "1             misty  14.902598  17.68695   69.6087  16.652113     131   \n",
       "2             ideal   8.050924   9.47025   43.7273  16.636703     120   \n",
       "3             ideal   8.200000  10.60610   59.0435  10.739832     108   \n",
       "4             ideal   9.305237  11.46350   43.6957  12.522300      82   \n",
       "\n",
       "   registered  Count  \n",
       "0         654    985  \n",
       "1         670    801  \n",
       "2        1229   1349  \n",
       "3        1454   1562  \n",
       "4        1518   1600  "
      ]
     },
     "execution_count": 25,
     "metadata": {},
     "output_type": "execute_result"
    }
   ],
   "source": [
    "data.head()"
   ]
  },
  {
   "cell_type": "code",
   "execution_count": 26,
   "id": "66326d16",
   "metadata": {},
   "outputs": [
    {
     "data": {
      "text/html": [
       "<div>\n",
       "<style scoped>\n",
       "    .dataframe tbody tr th:only-of-type {\n",
       "        vertical-align: middle;\n",
       "    }\n",
       "\n",
       "    .dataframe tbody tr th {\n",
       "        vertical-align: top;\n",
       "    }\n",
       "\n",
       "    .dataframe thead th {\n",
       "        text-align: right;\n",
       "    }\n",
       "</style>\n",
       "<table border=\"1\" class=\"dataframe\">\n",
       "  <thead>\n",
       "    <tr style=\"text-align: right;\">\n",
       "      <th></th>\n",
       "      <th>instant</th>\n",
       "      <th>dteday</th>\n",
       "      <th>season</th>\n",
       "      <th>yr</th>\n",
       "      <th>Month</th>\n",
       "      <th>holiday</th>\n",
       "      <th>weekday</th>\n",
       "      <th>workingday</th>\n",
       "      <th>Weather_condition</th>\n",
       "      <th>temp</th>\n",
       "      <th>atemp</th>\n",
       "      <th>humidity</th>\n",
       "      <th>windspeed</th>\n",
       "      <th>casual</th>\n",
       "      <th>registered</th>\n",
       "      <th>Count</th>\n",
       "    </tr>\n",
       "  </thead>\n",
       "  <tbody>\n",
       "  </tbody>\n",
       "</table>\n",
       "</div>"
      ],
      "text/plain": [
       "Empty DataFrame\n",
       "Columns: [instant, dteday, season, yr, Month, holiday, weekday, workingday, Weather_condition, temp, atemp, humidity, windspeed, casual, registered, Count]\n",
       "Index: []"
      ]
     },
     "execution_count": 26,
     "metadata": {},
     "output_type": "execute_result"
    }
   ],
   "source": [
    "# we will run some quality checks for our numerical columns as well\n",
    "# Although there can exist negative temperatures we wanted to see if our data has any negative values \n",
    "data[data[\"temp\"] <= 0.0]"
   ]
  },
  {
   "cell_type": "code",
   "execution_count": 27,
   "id": "3b580b16",
   "metadata": {},
   "outputs": [
    {
     "data": {
      "text/html": [
       "<div>\n",
       "<style scoped>\n",
       "    .dataframe tbody tr th:only-of-type {\n",
       "        vertical-align: middle;\n",
       "    }\n",
       "\n",
       "    .dataframe tbody tr th {\n",
       "        vertical-align: top;\n",
       "    }\n",
       "\n",
       "    .dataframe thead th {\n",
       "        text-align: right;\n",
       "    }\n",
       "</style>\n",
       "<table border=\"1\" class=\"dataframe\">\n",
       "  <thead>\n",
       "    <tr style=\"text-align: right;\">\n",
       "      <th></th>\n",
       "      <th>instant</th>\n",
       "      <th>dteday</th>\n",
       "      <th>season</th>\n",
       "      <th>yr</th>\n",
       "      <th>Month</th>\n",
       "      <th>holiday</th>\n",
       "      <th>weekday</th>\n",
       "      <th>workingday</th>\n",
       "      <th>Weather_condition</th>\n",
       "      <th>temp</th>\n",
       "      <th>atemp</th>\n",
       "      <th>humidity</th>\n",
       "      <th>windspeed</th>\n",
       "      <th>casual</th>\n",
       "      <th>registered</th>\n",
       "      <th>Count</th>\n",
       "    </tr>\n",
       "  </thead>\n",
       "  <tbody>\n",
       "  </tbody>\n",
       "</table>\n",
       "</div>"
      ],
      "text/plain": [
       "Empty DataFrame\n",
       "Columns: [instant, dteday, season, yr, Month, holiday, weekday, workingday, Weather_condition, temp, atemp, humidity, windspeed, casual, registered, Count]\n",
       "Index: []"
      ]
     },
     "execution_count": 27,
     "metadata": {},
     "output_type": "execute_result"
    }
   ],
   "source": [
    "data[data[\"atemp\"] <= 0.0]"
   ]
  },
  {
   "cell_type": "code",
   "execution_count": 28,
   "id": "9f6cb293",
   "metadata": {},
   "outputs": [
    {
     "data": {
      "text/html": [
       "<div>\n",
       "<style scoped>\n",
       "    .dataframe tbody tr th:only-of-type {\n",
       "        vertical-align: middle;\n",
       "    }\n",
       "\n",
       "    .dataframe tbody tr th {\n",
       "        vertical-align: top;\n",
       "    }\n",
       "\n",
       "    .dataframe thead th {\n",
       "        text-align: right;\n",
       "    }\n",
       "</style>\n",
       "<table border=\"1\" class=\"dataframe\">\n",
       "  <thead>\n",
       "    <tr style=\"text-align: right;\">\n",
       "      <th></th>\n",
       "      <th>instant</th>\n",
       "      <th>dteday</th>\n",
       "      <th>season</th>\n",
       "      <th>yr</th>\n",
       "      <th>Month</th>\n",
       "      <th>holiday</th>\n",
       "      <th>weekday</th>\n",
       "      <th>workingday</th>\n",
       "      <th>Weather_condition</th>\n",
       "      <th>temp</th>\n",
       "      <th>atemp</th>\n",
       "      <th>humidity</th>\n",
       "      <th>windspeed</th>\n",
       "      <th>casual</th>\n",
       "      <th>registered</th>\n",
       "      <th>Count</th>\n",
       "    </tr>\n",
       "  </thead>\n",
       "  <tbody>\n",
       "    <tr>\n",
       "      <th>68</th>\n",
       "      <td>69</td>\n",
       "      <td>10-03-2018</td>\n",
       "      <td>spring</td>\n",
       "      <td>0</td>\n",
       "      <td>March</td>\n",
       "      <td>0</td>\n",
       "      <td>Saturday</td>\n",
       "      <td>1</td>\n",
       "      <td>snow_rain</td>\n",
       "      <td>15.952731</td>\n",
       "      <td>19.2834</td>\n",
       "      <td>0.0</td>\n",
       "      <td>17.545759</td>\n",
       "      <td>46</td>\n",
       "      <td>577</td>\n",
       "      <td>623</td>\n",
       "    </tr>\n",
       "  </tbody>\n",
       "</table>\n",
       "</div>"
      ],
      "text/plain": [
       "    instant      dteday  season  yr  Month  holiday   weekday  workingday  \\\n",
       "68       69  10-03-2018  spring   0  March        0  Saturday           1   \n",
       "\n",
       "   Weather_condition       temp    atemp  humidity  windspeed  casual  \\\n",
       "68         snow_rain  15.952731  19.2834       0.0  17.545759      46   \n",
       "\n",
       "    registered  Count  \n",
       "68         577    623  "
      ]
     },
     "execution_count": 28,
     "metadata": {},
     "output_type": "execute_result"
    }
   ],
   "source": [
    "data[data[\"humidity\"] <= 0.0]"
   ]
  },
  {
   "cell_type": "code",
   "execution_count": 29,
   "id": "0ac87beb",
   "metadata": {},
   "outputs": [],
   "source": [
    "data.loc[data[\"humidity\"] == 0.0, \"humidity\"] = data[\"humidity\"].median()"
   ]
  },
  {
   "cell_type": "code",
   "execution_count": 30,
   "id": "8d6893b8",
   "metadata": {},
   "outputs": [
    {
     "data": {
      "text/html": [
       "<div>\n",
       "<style scoped>\n",
       "    .dataframe tbody tr th:only-of-type {\n",
       "        vertical-align: middle;\n",
       "    }\n",
       "\n",
       "    .dataframe tbody tr th {\n",
       "        vertical-align: top;\n",
       "    }\n",
       "\n",
       "    .dataframe thead th {\n",
       "        text-align: right;\n",
       "    }\n",
       "</style>\n",
       "<table border=\"1\" class=\"dataframe\">\n",
       "  <thead>\n",
       "    <tr style=\"text-align: right;\">\n",
       "      <th></th>\n",
       "      <th>instant</th>\n",
       "      <th>dteday</th>\n",
       "      <th>season</th>\n",
       "      <th>yr</th>\n",
       "      <th>Month</th>\n",
       "      <th>holiday</th>\n",
       "      <th>weekday</th>\n",
       "      <th>workingday</th>\n",
       "      <th>Weather_condition</th>\n",
       "      <th>temp</th>\n",
       "      <th>atemp</th>\n",
       "      <th>humidity</th>\n",
       "      <th>windspeed</th>\n",
       "      <th>casual</th>\n",
       "      <th>registered</th>\n",
       "      <th>Count</th>\n",
       "    </tr>\n",
       "  </thead>\n",
       "  <tbody>\n",
       "  </tbody>\n",
       "</table>\n",
       "</div>"
      ],
      "text/plain": [
       "Empty DataFrame\n",
       "Columns: [instant, dteday, season, yr, Month, holiday, weekday, workingday, Weather_condition, temp, atemp, humidity, windspeed, casual, registered, Count]\n",
       "Index: []"
      ]
     },
     "execution_count": 30,
     "metadata": {},
     "output_type": "execute_result"
    }
   ],
   "source": [
    "data[data[\"humidity\"] <= 0.0]"
   ]
  },
  {
   "cell_type": "code",
   "execution_count": 31,
   "id": "10652523",
   "metadata": {},
   "outputs": [
    {
     "data": {
      "text/html": [
       "<div>\n",
       "<style scoped>\n",
       "    .dataframe tbody tr th:only-of-type {\n",
       "        vertical-align: middle;\n",
       "    }\n",
       "\n",
       "    .dataframe tbody tr th {\n",
       "        vertical-align: top;\n",
       "    }\n",
       "\n",
       "    .dataframe thead th {\n",
       "        text-align: right;\n",
       "    }\n",
       "</style>\n",
       "<table border=\"1\" class=\"dataframe\">\n",
       "  <thead>\n",
       "    <tr style=\"text-align: right;\">\n",
       "      <th></th>\n",
       "      <th>instant</th>\n",
       "      <th>dteday</th>\n",
       "      <th>season</th>\n",
       "      <th>yr</th>\n",
       "      <th>Month</th>\n",
       "      <th>holiday</th>\n",
       "      <th>weekday</th>\n",
       "      <th>workingday</th>\n",
       "      <th>Weather_condition</th>\n",
       "      <th>temp</th>\n",
       "      <th>atemp</th>\n",
       "      <th>humidity</th>\n",
       "      <th>windspeed</th>\n",
       "      <th>casual</th>\n",
       "      <th>registered</th>\n",
       "      <th>Count</th>\n",
       "    </tr>\n",
       "  </thead>\n",
       "  <tbody>\n",
       "  </tbody>\n",
       "</table>\n",
       "</div>"
      ],
      "text/plain": [
       "Empty DataFrame\n",
       "Columns: [instant, dteday, season, yr, Month, holiday, weekday, workingday, Weather_condition, temp, atemp, humidity, windspeed, casual, registered, Count]\n",
       "Index: []"
      ]
     },
     "execution_count": 31,
     "metadata": {},
     "output_type": "execute_result"
    }
   ],
   "source": [
    "# Windspeed cannot be negative:\n",
    "data[data[\"windspeed\"] <= 0.0]"
   ]
  },
  {
   "cell_type": "markdown",
   "id": "1b046bd3",
   "metadata": {},
   "source": [
    "### We ran this code just to see some varaitions of the recorded data and one can see that humidity is 0 which is not possible given the weather condtions on earth, so we can either omit the row or can impute the row i.e is fill that value with the median of that column and since it is only row we will rather impute it\n",
    "\n",
    "### Resource : https://www.google.com/search?client=firefox-b-d&q=can+humidity+be+zero"
   ]
  },
  {
   "cell_type": "markdown",
   "id": "3e93ddb3",
   "metadata": {},
   "source": [
    "### We have finished running  quality checks and now we will eliminate redundant columns along with columns which will cause errors in our model"
   ]
  },
  {
   "cell_type": "markdown",
   "id": "16b46e3f",
   "metadata": {},
   "source": [
    "### We will drop the columns which we dont need\n",
    "- instant : This is just the record number and clearly is of no use\n",
    "- dteday : Most of the information from this column have been derived in other columns, so this holds little to no value and would be redundant\n",
    "- casual & registered : We will assume we dont know these values while the model predicts on new data and our target -value is simply the sum of these two columns so when we include these in our model, the model will memorize these value and fail to generalize on the given data, in simple term these two values will leak information of our targeted variable\n",
    "\n"
   ]
  },
  {
   "cell_type": "code",
   "execution_count": 32,
   "id": "1203c794",
   "metadata": {},
   "outputs": [
    {
     "data": {
      "text/html": [
       "<div>\n",
       "<style scoped>\n",
       "    .dataframe tbody tr th:only-of-type {\n",
       "        vertical-align: middle;\n",
       "    }\n",
       "\n",
       "    .dataframe tbody tr th {\n",
       "        vertical-align: top;\n",
       "    }\n",
       "\n",
       "    .dataframe thead th {\n",
       "        text-align: right;\n",
       "    }\n",
       "</style>\n",
       "<table border=\"1\" class=\"dataframe\">\n",
       "  <thead>\n",
       "    <tr style=\"text-align: right;\">\n",
       "      <th></th>\n",
       "      <th>season</th>\n",
       "      <th>yr</th>\n",
       "      <th>Month</th>\n",
       "      <th>holiday</th>\n",
       "      <th>weekday</th>\n",
       "      <th>workingday</th>\n",
       "      <th>Weather_condition</th>\n",
       "      <th>temp</th>\n",
       "      <th>atemp</th>\n",
       "      <th>humidity</th>\n",
       "      <th>windspeed</th>\n",
       "      <th>Count</th>\n",
       "    </tr>\n",
       "  </thead>\n",
       "  <tbody>\n",
       "    <tr>\n",
       "      <th>0</th>\n",
       "      <td>spring</td>\n",
       "      <td>0</td>\n",
       "      <td>January</td>\n",
       "      <td>0</td>\n",
       "      <td>Monday</td>\n",
       "      <td>0</td>\n",
       "      <td>misty</td>\n",
       "      <td>14.110847</td>\n",
       "      <td>18.18125</td>\n",
       "      <td>80.5833</td>\n",
       "      <td>10.749882</td>\n",
       "      <td>985</td>\n",
       "    </tr>\n",
       "    <tr>\n",
       "      <th>1</th>\n",
       "      <td>spring</td>\n",
       "      <td>0</td>\n",
       "      <td>January</td>\n",
       "      <td>0</td>\n",
       "      <td>Tuesday</td>\n",
       "      <td>0</td>\n",
       "      <td>misty</td>\n",
       "      <td>14.902598</td>\n",
       "      <td>17.68695</td>\n",
       "      <td>69.6087</td>\n",
       "      <td>16.652113</td>\n",
       "      <td>801</td>\n",
       "    </tr>\n",
       "    <tr>\n",
       "      <th>2</th>\n",
       "      <td>spring</td>\n",
       "      <td>0</td>\n",
       "      <td>January</td>\n",
       "      <td>0</td>\n",
       "      <td>Wednesday</td>\n",
       "      <td>1</td>\n",
       "      <td>ideal</td>\n",
       "      <td>8.050924</td>\n",
       "      <td>9.47025</td>\n",
       "      <td>43.7273</td>\n",
       "      <td>16.636703</td>\n",
       "      <td>1349</td>\n",
       "    </tr>\n",
       "    <tr>\n",
       "      <th>3</th>\n",
       "      <td>spring</td>\n",
       "      <td>0</td>\n",
       "      <td>January</td>\n",
       "      <td>0</td>\n",
       "      <td>Thursday</td>\n",
       "      <td>1</td>\n",
       "      <td>ideal</td>\n",
       "      <td>8.200000</td>\n",
       "      <td>10.60610</td>\n",
       "      <td>59.0435</td>\n",
       "      <td>10.739832</td>\n",
       "      <td>1562</td>\n",
       "    </tr>\n",
       "    <tr>\n",
       "      <th>4</th>\n",
       "      <td>spring</td>\n",
       "      <td>0</td>\n",
       "      <td>January</td>\n",
       "      <td>0</td>\n",
       "      <td>Friday</td>\n",
       "      <td>1</td>\n",
       "      <td>ideal</td>\n",
       "      <td>9.305237</td>\n",
       "      <td>11.46350</td>\n",
       "      <td>43.6957</td>\n",
       "      <td>12.522300</td>\n",
       "      <td>1600</td>\n",
       "    </tr>\n",
       "  </tbody>\n",
       "</table>\n",
       "</div>"
      ],
      "text/plain": [
       "   season  yr    Month  holiday    weekday  workingday Weather_condition  \\\n",
       "0  spring   0  January        0     Monday           0             misty   \n",
       "1  spring   0  January        0    Tuesday           0             misty   \n",
       "2  spring   0  January        0  Wednesday           1             ideal   \n",
       "3  spring   0  January        0   Thursday           1             ideal   \n",
       "4  spring   0  January        0     Friday           1             ideal   \n",
       "\n",
       "        temp     atemp  humidity  windspeed  Count  \n",
       "0  14.110847  18.18125   80.5833  10.749882    985  \n",
       "1  14.902598  17.68695   69.6087  16.652113    801  \n",
       "2   8.050924   9.47025   43.7273  16.636703   1349  \n",
       "3   8.200000  10.60610   59.0435  10.739832   1562  \n",
       "4   9.305237  11.46350   43.6957  12.522300   1600  "
      ]
     },
     "execution_count": 32,
     "metadata": {},
     "output_type": "execute_result"
    }
   ],
   "source": [
    "cols_to_drop = [\"instant\", \"dteday\", \"casual\", \"registered\"]\n",
    "\n",
    "data.drop(cols_to_drop, axis = 1, inplace = True)\n",
    "data.head()"
   ]
  },
  {
   "cell_type": "code",
   "execution_count": 33,
   "id": "7c3f8045",
   "metadata": {},
   "outputs": [
    {
     "data": {
      "text/html": [
       "<div>\n",
       "<style scoped>\n",
       "    .dataframe tbody tr th:only-of-type {\n",
       "        vertical-align: middle;\n",
       "    }\n",
       "\n",
       "    .dataframe tbody tr th {\n",
       "        vertical-align: top;\n",
       "    }\n",
       "\n",
       "    .dataframe thead th {\n",
       "        text-align: right;\n",
       "    }\n",
       "</style>\n",
       "<table border=\"1\" class=\"dataframe\">\n",
       "  <thead>\n",
       "    <tr style=\"text-align: right;\">\n",
       "      <th></th>\n",
       "      <th>season</th>\n",
       "      <th>yr</th>\n",
       "      <th>Month</th>\n",
       "      <th>holiday</th>\n",
       "      <th>weekday</th>\n",
       "      <th>workingday</th>\n",
       "      <th>Weather_condition</th>\n",
       "      <th>temp</th>\n",
       "      <th>atemp</th>\n",
       "      <th>humidity</th>\n",
       "      <th>windspeed</th>\n",
       "      <th>Count</th>\n",
       "    </tr>\n",
       "  </thead>\n",
       "  <tbody>\n",
       "    <tr>\n",
       "      <th>0</th>\n",
       "      <td>spring</td>\n",
       "      <td>0</td>\n",
       "      <td>January</td>\n",
       "      <td>0</td>\n",
       "      <td>Monday</td>\n",
       "      <td>0</td>\n",
       "      <td>misty</td>\n",
       "      <td>14.110847</td>\n",
       "      <td>18.18125</td>\n",
       "      <td>80.5833</td>\n",
       "      <td>10.749882</td>\n",
       "      <td>985</td>\n",
       "    </tr>\n",
       "    <tr>\n",
       "      <th>1</th>\n",
       "      <td>spring</td>\n",
       "      <td>0</td>\n",
       "      <td>January</td>\n",
       "      <td>0</td>\n",
       "      <td>Tuesday</td>\n",
       "      <td>0</td>\n",
       "      <td>misty</td>\n",
       "      <td>14.902598</td>\n",
       "      <td>17.68695</td>\n",
       "      <td>69.6087</td>\n",
       "      <td>16.652113</td>\n",
       "      <td>801</td>\n",
       "    </tr>\n",
       "    <tr>\n",
       "      <th>2</th>\n",
       "      <td>spring</td>\n",
       "      <td>0</td>\n",
       "      <td>January</td>\n",
       "      <td>0</td>\n",
       "      <td>Wednesday</td>\n",
       "      <td>1</td>\n",
       "      <td>ideal</td>\n",
       "      <td>8.050924</td>\n",
       "      <td>9.47025</td>\n",
       "      <td>43.7273</td>\n",
       "      <td>16.636703</td>\n",
       "      <td>1349</td>\n",
       "    </tr>\n",
       "    <tr>\n",
       "      <th>3</th>\n",
       "      <td>spring</td>\n",
       "      <td>0</td>\n",
       "      <td>January</td>\n",
       "      <td>0</td>\n",
       "      <td>Thursday</td>\n",
       "      <td>1</td>\n",
       "      <td>ideal</td>\n",
       "      <td>8.200000</td>\n",
       "      <td>10.60610</td>\n",
       "      <td>59.0435</td>\n",
       "      <td>10.739832</td>\n",
       "      <td>1562</td>\n",
       "    </tr>\n",
       "    <tr>\n",
       "      <th>4</th>\n",
       "      <td>spring</td>\n",
       "      <td>0</td>\n",
       "      <td>January</td>\n",
       "      <td>0</td>\n",
       "      <td>Friday</td>\n",
       "      <td>1</td>\n",
       "      <td>ideal</td>\n",
       "      <td>9.305237</td>\n",
       "      <td>11.46350</td>\n",
       "      <td>43.6957</td>\n",
       "      <td>12.522300</td>\n",
       "      <td>1600</td>\n",
       "    </tr>\n",
       "    <tr>\n",
       "      <th>...</th>\n",
       "      <td>...</td>\n",
       "      <td>...</td>\n",
       "      <td>...</td>\n",
       "      <td>...</td>\n",
       "      <td>...</td>\n",
       "      <td>...</td>\n",
       "      <td>...</td>\n",
       "      <td>...</td>\n",
       "      <td>...</td>\n",
       "      <td>...</td>\n",
       "      <td>...</td>\n",
       "      <td>...</td>\n",
       "    </tr>\n",
       "    <tr>\n",
       "      <th>725</th>\n",
       "      <td>spring</td>\n",
       "      <td>1</td>\n",
       "      <td>December</td>\n",
       "      <td>0</td>\n",
       "      <td>Saturday</td>\n",
       "      <td>1</td>\n",
       "      <td>misty</td>\n",
       "      <td>10.420847</td>\n",
       "      <td>11.33210</td>\n",
       "      <td>65.2917</td>\n",
       "      <td>23.458911</td>\n",
       "      <td>2114</td>\n",
       "    </tr>\n",
       "    <tr>\n",
       "      <th>726</th>\n",
       "      <td>spring</td>\n",
       "      <td>1</td>\n",
       "      <td>December</td>\n",
       "      <td>0</td>\n",
       "      <td>Sunday</td>\n",
       "      <td>1</td>\n",
       "      <td>misty</td>\n",
       "      <td>10.386653</td>\n",
       "      <td>12.75230</td>\n",
       "      <td>59.0000</td>\n",
       "      <td>10.416557</td>\n",
       "      <td>3095</td>\n",
       "    </tr>\n",
       "    <tr>\n",
       "      <th>727</th>\n",
       "      <td>spring</td>\n",
       "      <td>1</td>\n",
       "      <td>December</td>\n",
       "      <td>0</td>\n",
       "      <td>Monday</td>\n",
       "      <td>0</td>\n",
       "      <td>misty</td>\n",
       "      <td>10.386653</td>\n",
       "      <td>12.12000</td>\n",
       "      <td>75.2917</td>\n",
       "      <td>8.333661</td>\n",
       "      <td>1341</td>\n",
       "    </tr>\n",
       "    <tr>\n",
       "      <th>728</th>\n",
       "      <td>spring</td>\n",
       "      <td>1</td>\n",
       "      <td>December</td>\n",
       "      <td>0</td>\n",
       "      <td>Tuesday</td>\n",
       "      <td>0</td>\n",
       "      <td>ideal</td>\n",
       "      <td>10.489153</td>\n",
       "      <td>11.58500</td>\n",
       "      <td>48.3333</td>\n",
       "      <td>23.500518</td>\n",
       "      <td>1796</td>\n",
       "    </tr>\n",
       "    <tr>\n",
       "      <th>729</th>\n",
       "      <td>spring</td>\n",
       "      <td>1</td>\n",
       "      <td>December</td>\n",
       "      <td>0</td>\n",
       "      <td>Wednesday</td>\n",
       "      <td>1</td>\n",
       "      <td>misty</td>\n",
       "      <td>8.849153</td>\n",
       "      <td>11.17435</td>\n",
       "      <td>57.7500</td>\n",
       "      <td>10.374682</td>\n",
       "      <td>2729</td>\n",
       "    </tr>\n",
       "  </tbody>\n",
       "</table>\n",
       "<p>730 rows × 12 columns</p>\n",
       "</div>"
      ],
      "text/plain": [
       "     season  yr     Month  holiday    weekday  workingday Weather_condition  \\\n",
       "0    spring   0   January        0     Monday           0             misty   \n",
       "1    spring   0   January        0    Tuesday           0             misty   \n",
       "2    spring   0   January        0  Wednesday           1             ideal   \n",
       "3    spring   0   January        0   Thursday           1             ideal   \n",
       "4    spring   0   January        0     Friday           1             ideal   \n",
       "..      ...  ..       ...      ...        ...         ...               ...   \n",
       "725  spring   1  December        0   Saturday           1             misty   \n",
       "726  spring   1  December        0     Sunday           1             misty   \n",
       "727  spring   1  December        0     Monday           0             misty   \n",
       "728  spring   1  December        0    Tuesday           0             ideal   \n",
       "729  spring   1  December        0  Wednesday           1             misty   \n",
       "\n",
       "          temp     atemp  humidity  windspeed  Count  \n",
       "0    14.110847  18.18125   80.5833  10.749882    985  \n",
       "1    14.902598  17.68695   69.6087  16.652113    801  \n",
       "2     8.050924   9.47025   43.7273  16.636703   1349  \n",
       "3     8.200000  10.60610   59.0435  10.739832   1562  \n",
       "4     9.305237  11.46350   43.6957  12.522300   1600  \n",
       "..         ...       ...       ...        ...    ...  \n",
       "725  10.420847  11.33210   65.2917  23.458911   2114  \n",
       "726  10.386653  12.75230   59.0000  10.416557   3095  \n",
       "727  10.386653  12.12000   75.2917   8.333661   1341  \n",
       "728  10.489153  11.58500   48.3333  23.500518   1796  \n",
       "729   8.849153  11.17435   57.7500  10.374682   2729  \n",
       "\n",
       "[730 rows x 12 columns]"
      ]
     },
     "execution_count": 33,
     "metadata": {},
     "output_type": "execute_result"
    }
   ],
   "source": [
    "data"
   ]
  },
  {
   "cell_type": "markdown",
   "id": "97b692a4",
   "metadata": {},
   "source": [
    "## Data visualization (EDA)\n",
    "- Check for outliers\n",
    "- Check for some collinearity\n",
    "- Identify and deduce some patterns which helps us to understand the data"
   ]
  },
  {
   "cell_type": "code",
   "execution_count": 34,
   "id": "5e5ce5f1",
   "metadata": {},
   "outputs": [],
   "source": [
    "# Let's define a function for our uni-variate, bi-variate and multi-variate(More than two) analysis\n",
    "\n",
    "def plots(x = None, y = None, hues = None, rotation = 0, bar_plot = False, box_plot = False, count_plot = False,\n",
    "         figsisze = (17, 5), fontsize = 10, estimator = np.mean, dataframe = data):\n",
    "    \n",
    "    if bar_plot:\n",
    "        sns.barplot(x = x, y = y, hue = hues, data = dataframe, estimator=estimator)\n",
    "        plt.gcf().set_size_inches(figsisze)\n",
    "        plt.title(label = f\"Bar plot between {x} and {y}\",fontdict = {\"fontsize\" : fontsize})\n",
    "        plt.xlabel(xlabel = str(x), fontsize = fontsize)\n",
    "        plt.ylabel(ylabel = str(y), fontsize = fontsize)\n",
    "        plt.xticks(fontsize = fontsize, rotation = rotation)\n",
    "        plt.yticks(fontsize = fontsize)\n",
    "    \n",
    "    elif box_plot :\n",
    "        sns.boxplot(x = x, y = y, hue = hues, data = dataframe)\n",
    "        plt.gcf().set_size_inches(figsisze)\n",
    "        plt.title(label = f\"Box plot between {x} and {y}\",fontdict = {\"fontsize\" : fontsize})\n",
    "        plt.xlabel(xlabel = str(x), fontsize = fontsize,rotation = rotation)\n",
    "        plt.ylabel(ylabel = str(y), fontsize = fontsize)\n",
    "        plt.xticks(fontsize = fontsize, rotation = rotation)\n",
    "        plt.yticks(fontsize = fontsize)\n",
    " \n",
    "    elif count_plot:\n",
    "        sns.countplot(x = x, hue = hues, data = dataframe)\n",
    "        plt.gcf().set_size_inches(figsisze)\n",
    "        plt.title(label = f\"Count plot between {x} and {y}\",fontdict = {\"fontsize\" : fontsize})\n",
    "        plt.xlabel(xlabel = str(x), fontsize = fontsize, rotation = rotation)\n",
    "        plt.ylabel(ylabel = str(y), fontsize = fontsize)\n",
    "        plt.xticks(fontsize = fontsize, rotation = rotation)\n",
    "        plt.yticks(fontsize = fontsize)\n",
    "    \n",
    "    else :\n",
    "        print(\"Please set the Boolean value to True for any of the following plots : \\n  [bar_plot, box_plot, count_plot]\")\n"
   ]
  },
  {
   "cell_type": "markdown",
   "id": "ea4d55cd",
   "metadata": {},
   "source": [
    "## Checking for outliers\n",
    "\n",
    "### Since we have only four numerical columns it will be a short work considering that there wont be annoying outliers"
   ]
  },
  {
   "cell_type": "code",
   "execution_count": 35,
   "id": "2dfbf4a7",
   "metadata": {},
   "outputs": [
    {
     "data": {
      "image/png": "[encoded data removed]",
      "text/plain": [
       "<Figure size 720x648 with 4 Axes>"
      ]
     },
     "metadata": {
      "needs_background": "light"
     },
     "output_type": "display_data"
    }
   ],
   "source": [
    "cols_for_boxplot = [\"temp\", \"atemp\", \"humidity\", \"windspeed\"]\n",
    "\n",
    "plt.gcf().set_size_inches(10,9)\n",
    "\n",
    "for i,j in enumerate(cols_for_boxplot):\n",
    "    plt.subplot(2,2,i+1)\n",
    "    sns.boxplot(data = data, y = j)"
   ]
  },
  {
   "cell_type": "markdown",
   "id": "343882ff",
   "metadata": {},
   "source": [
    "## Observations :\n",
    "- There arent any annoying outlier so no need to change or delete any rows\n",
    "- temp and atemp seems to be similar"
   ]
  },
  {
   "cell_type": "markdown",
   "id": "9fdc3a36",
   "metadata": {},
   "source": [
    "## Checking for some collinearity"
   ]
  },
  {
   "cell_type": "code",
   "execution_count": null,
   "id": "d4282ae6",
   "metadata": {},
   "outputs": [],
   "source": [
    "# We will use pairplot to achieve this along with heatmaps\n",
    "\n",
    "sns.pairplot(data)"
   ]
  },
  {
   "cell_type": "code",
   "execution_count": null,
   "id": "631d602b",
   "metadata": {},
   "outputs": [],
   "source": [
    "sns.heatmap(data.corr(), annot = True)\n",
    "plt.gcf().set_size_inches(10,9)"
   ]
  },
  {
   "cell_type": "markdown",
   "id": "5a227f4c",
   "metadata": {},
   "source": [
    "## Observation :\n",
    "- temp and atemp shows high collinearity, this could be a problem while building our model\n",
    "- Also there exists some linear relationship between temp and cnt, atemp and cnt\n",
    "- A positive corelation can be observed between yr and cnt as well"
   ]
  },
  {
   "cell_type": "code",
   "execution_count": null,
   "id": "f0fc30dc",
   "metadata": {},
   "outputs": [],
   "source": [
    "# Temp vs count and windspeed vs Count\n",
    "\n",
    "plt.figure(figsize=(10,5))\n",
    "\n",
    "plt.subplot(121)\n",
    "sns.regplot(x = data[\"Count\"], y = data[\"temp\"], line_kws={\"color\" : \"r\"})\n",
    "\n",
    "plt.subplot(122)\n",
    "sns.regplot(x = data[\"Count\"], y = data[\"windspeed\"], line_kws={\"color\" : \"r\"})"
   ]
  },
  {
   "cell_type": "code",
   "execution_count": null,
   "id": "efb873d9",
   "metadata": {},
   "outputs": [],
   "source": [
    "sns.regplot(x = data[\"Count\"], y = data[\"temp\"], line_kws={\"color\" : \"r\"})"
   ]
  },
  {
   "cell_type": "markdown",
   "id": "074d0eae",
   "metadata": {},
   "source": [
    "## Observations:\n",
    "- A linear relationship can be seen; a positive one in the first plot and a negative one in the second plot\n",
    "- Temp has a postive linear relationship with Count which can be decued from the plot and ehatmap above\n",
    "- Windspeed has a negative moderately linear relationship  with Count"
   ]
  },
  {
   "cell_type": "code",
   "execution_count": null,
   "id": "8381db46",
   "metadata": {},
   "outputs": [],
   "source": [
    "sns.regplot(x = data[\"Count\"], y = data[\"humidity\"], line_kws={\"color\" : \"r\"})"
   ]
  },
  {
   "cell_type": "markdown",
   "id": "d8d2dce4",
   "metadata": {},
   "source": [
    "## Observations:\n",
    "- We can see a moderately negative correlation between humidity and Count"
   ]
  },
  {
   "cell_type": "markdown",
   "id": "617be3d8",
   "metadata": {},
   "source": [
    "## Let's visualise our data using bivariate and multi variate analysis"
   ]
  },
  {
   "cell_type": "code",
   "execution_count": null,
   "id": "31e85008",
   "metadata": {},
   "outputs": [],
   "source": [
    "data.columns"
   ]
  },
  {
   "cell_type": "code",
   "execution_count": null,
   "id": "e1079cd7",
   "metadata": {},
   "outputs": [],
   "source": [
    "x = \"season\"\n",
    "y = \"Count\"\n",
    "\n",
    "plots(x = x, y = y, bar_plot = True)"
   ]
  },
  {
   "cell_type": "markdown",
   "id": "bf57fb5f",
   "metadata": {},
   "source": [
    "## Observations :\n",
    "- Fall and summer shows the highest count \n",
    "- This could be due to the summer vacation which typicall lasts for 2 and a half months\n",
    "- Some students also prefer riding bikes to school which can explain the rise in count in fall"
   ]
  },
  {
   "cell_type": "code",
   "execution_count": null,
   "id": "3d10cfc0",
   "metadata": {},
   "outputs": [],
   "source": [
    "x = \"yr\"\n",
    "y = \"Count\"\n",
    "\n",
    "plots(x = x, y = y, bar_plot = True, fontsize=15)\n",
    "plt.xticks(ticks = [0,1], labels = [\"2018\", \"2019\"])\n",
    "plt.show()"
   ]
  },
  {
   "cell_type": "markdown",
   "id": "18cd96fc",
   "metadata": {},
   "source": [
    "## Observations :\n",
    "- The business is growing for Boombikes in 2019 which is a good indicator for the company"
   ]
  },
  {
   "cell_type": "code",
   "execution_count": null,
   "id": "3d62c0eb",
   "metadata": {},
   "outputs": [],
   "source": [
    "x = \"Month\"\n",
    "y = \"Count\"\n",
    "\n",
    "plots(x = x, y = y, bar_plot = True)"
   ]
  },
  {
   "cell_type": "markdown",
   "id": "e4bacdf9",
   "metadata": {},
   "source": [
    "## Observations :\n",
    "- summer runs from June 1 to August 31; fall (autumn) runs from September 1 to November 30 which explains the higher bike count in those months\n",
    "- resource :https://www.google.com/search?client=firefox-b-d&q=summer+and+fall+in+US"
   ]
  },
  {
   "cell_type": "code",
   "execution_count": null,
   "id": "34d3e7b5",
   "metadata": {},
   "outputs": [],
   "source": [
    "x = \"weekday\"\n",
    "y = \"Count\"\n",
    "plt.subplot(121)\n",
    "plots(x = x, y = y, bar_plot = True)\n",
    "\n",
    "plt.subplot(122)\n",
    "plots(x = x, y = y, box_plot = True)"
   ]
  },
  {
   "cell_type": "markdown",
   "id": "70c6bf26",
   "metadata": {},
   "source": [
    "## Observations:\n",
    "- It seems that the count is evenly distributed accross the days of the week\n",
    "- no specific apttern observed"
   ]
  },
  {
   "cell_type": "code",
   "execution_count": null,
   "id": "dc47cca9",
   "metadata": {},
   "outputs": [],
   "source": [
    "x = \"workingday\"\n",
    "y = \"Count\"\n",
    "\n",
    "plots(x = x, y = y, bar_plot = True, fontsize=15, estimator=np.median)\n"
   ]
  },
  {
   "cell_type": "markdown",
   "id": "b3535ca8",
   "metadata": {},
   "source": [
    "## Observations:\n",
    "- No pattern can be uncovered from this data"
   ]
  },
  {
   "cell_type": "code",
   "execution_count": null,
   "id": "cfd5e347",
   "metadata": {},
   "outputs": [],
   "source": [
    "x = \"holiday\"\n",
    "y = \"Count\"\n",
    "\n",
    "plots(x = x, y = y, bar_plot = True, fontsize=15, estimator=np.median)\n"
   ]
  },
  {
   "cell_type": "markdown",
   "id": "423ff74d",
   "metadata": {},
   "source": [
    "## Observations :\n",
    "- People who tend to be working tend have a higher bike count"
   ]
  },
  {
   "cell_type": "code",
   "execution_count": null,
   "id": "949e0a9a",
   "metadata": {},
   "outputs": [],
   "source": [
    "x = \"Weather_condition\"\n",
    "y = \"Count\"\n",
    "\n",
    "plots(x = x, y = y, bar_plot = True)\n"
   ]
  },
  {
   "cell_type": "markdown",
   "id": "d51e4805",
   "metadata": {},
   "source": [
    "## Observations :\n",
    "- People tend to ride bikes when the weather is misty or ideal which makes sense given that the weather condition palys a mojor role in deciding to whether ride a bike or not"
   ]
  },
  {
   "cell_type": "code",
   "execution_count": null,
   "id": "62011534",
   "metadata": {},
   "outputs": [],
   "source": [
    "x = \"season\"\n",
    "y = \"Count\"\n",
    "hue = \"yr\"\n",
    "plots(x = x, y = y, bar_plot = True, hues = hue, fontsize=15)\n",
    "labels = plt.legend()\n",
    "labels.get_texts()[0].set_text(\"2018\")\n",
    "labels.get_texts()[1].set_text(\"2019\")"
   ]
  },
  {
   "cell_type": "markdown",
   "id": "b0bca1e6",
   "metadata": {},
   "source": [
    "## Observations:\n",
    "- As we have already seen that there is year on yeat growth and this is evident across various seasons"
   ]
  },
  {
   "cell_type": "code",
   "execution_count": null,
   "id": "a349005f",
   "metadata": {},
   "outputs": [],
   "source": [
    "x = \"Month\"\n",
    "y = \"Count\"\n",
    "hue = \"yr\"\n",
    "plots(x = x, y = y, bar_plot = True, hues = hue, fontsize=15, rotation = 45)\n",
    "\n",
    "labels = plt.legend()\n",
    "labels.get_texts()[0].set_text(\"2018\")\n",
    "labels.get_texts()[1].set_text(\"2019\")"
   ]
  },
  {
   "cell_type": "markdown",
   "id": "d0c9a954",
   "metadata": {},
   "source": [
    "## Observations:\n",
    "- This plot shows the same results of year on year growth and the growht hasnt dipped when compared to 2019"
   ]
  },
  {
   "cell_type": "code",
   "execution_count": null,
   "id": "ae675f9b",
   "metadata": {},
   "outputs": [],
   "source": [
    "x = \"workingday\"\n",
    "y = \"Count\"\n",
    "hue = \"yr\"\n",
    "plots(x = x, y = y, bar_plot = True, hues = hue)\n",
    "\n",
    "labels = plt.legend()\n",
    "labels.get_texts()[0].set_text(\"2018\")\n",
    "labels.get_texts()[1].set_text(\"2019\")\n",
    "\n"
   ]
  },
  {
   "cell_type": "markdown",
   "id": "ef96b3a0",
   "metadata": {},
   "source": [
    "## Observations:\n",
    "- The same can be said about this plot"
   ]
  },
  {
   "cell_type": "code",
   "execution_count": null,
   "id": "9bc166f4",
   "metadata": {},
   "outputs": [],
   "source": [
    "x = \"Weather_condition\"\n",
    "y = \"Count\"\n",
    "hue = \"yr\"\n",
    "plots(x = x, y = y, bar_plot = True, hues = hue, fontsize=15)\n",
    "\n",
    "labels = plt.legend()\n",
    "labels.get_texts()[0].set_text(\"2018\")\n",
    "labels.get_texts()[1].set_text(\"2019\")"
   ]
  },
  {
   "cell_type": "markdown",
   "id": "62276e9c",
   "metadata": {},
   "source": [
    "### We have finished with our EDA and now let's beging with building and preparing our data for the same"
   ]
  },
  {
   "cell_type": "markdown",
   "id": "cf2be384",
   "metadata": {},
   "source": [
    "## Pre-processing data"
   ]
  },
  {
   "cell_type": "code",
   "execution_count": null,
   "id": "7df58848",
   "metadata": {},
   "outputs": [],
   "source": [
    "data.head()"
   ]
  },
  {
   "cell_type": "code",
   "execution_count": null,
   "id": "0a25285e",
   "metadata": {},
   "outputs": [],
   "source": [
    "data.shape"
   ]
  },
  {
   "cell_type": "markdown",
   "id": "25a38011",
   "metadata": {},
   "source": [
    "### Creating dummy variables for categorical data :- season, Month, weekday and Weather_condition\n",
    "- We do this to improve the computational time and accuracy of our model\n"
   ]
  },
  {
   "cell_type": "code",
   "execution_count": null,
   "id": "fa6aa8a2",
   "metadata": {},
   "outputs": [],
   "source": [
    "dummy_season = pd.get_dummies(data[\"season\"], drop_first = True)\n",
    "\n",
    "dummy_Month = pd.get_dummies(data[\"Month\"], drop_first = True)\n",
    "\n",
    "dummy_weekday = pd.get_dummies(data[\"weekday\"], drop_first = True)\n",
    "\n",
    "dummy_Weather_condition = pd.get_dummies(data[\"Weather_condition\"], drop_first = True)"
   ]
  },
  {
   "cell_type": "code",
   "execution_count": null,
   "id": "1ecf2d9d",
   "metadata": {},
   "outputs": [],
   "source": [
    "dummy_season\n",
    "\n"
   ]
  },
  {
   "cell_type": "code",
   "execution_count": null,
   "id": "4bcb198f",
   "metadata": {},
   "outputs": [],
   "source": [
    "dummy_Month"
   ]
  },
  {
   "cell_type": "code",
   "execution_count": null,
   "id": "a6e0276f",
   "metadata": {},
   "outputs": [],
   "source": [
    "dummy_weekday"
   ]
  },
  {
   "cell_type": "code",
   "execution_count": null,
   "id": "cccce332",
   "metadata": {},
   "outputs": [],
   "source": [
    "dummy_Weather_condition"
   ]
  },
  {
   "cell_type": "code",
   "execution_count": null,
   "id": "e32425a6",
   "metadata": {},
   "outputs": [],
   "source": [
    "# Let's concatenate this to our original data but we will spare changes in the orignal data\n",
    "# We will create a new variable which stores all the data\n",
    "\n",
    "data1 = pd.concat([data, dummy_season, dummy_Month, dummy_weekday, dummy_Weather_condition], axis = 1)\n",
    "data1.head()"
   ]
  },
  {
   "cell_type": "code",
   "execution_count": null,
   "id": "85f8eed5",
   "metadata": {},
   "outputs": [],
   "source": [
    "# It's time to drop the original columns\n",
    "\n",
    "data1.drop([\"season\", \"Month\", \"weekday\", \"Weather_condition\"], axis = 1, inplace = True)"
   ]
  },
  {
   "cell_type": "code",
   "execution_count": null,
   "id": "68b45b4c",
   "metadata": {},
   "outputs": [],
   "source": [
    "data1.columns"
   ]
  },
  {
   "cell_type": "code",
   "execution_count": null,
   "id": "a79ed8e9",
   "metadata": {},
   "outputs": [],
   "source": [
    "data1.head()"
   ]
  },
  {
   "cell_type": "code",
   "execution_count": null,
   "id": "78293986",
   "metadata": {},
   "outputs": [],
   "source": [
    "plt.figure(figsize = (25,20))\n",
    "\n",
    "sns.heatmap(data1.corr(), annot=True)"
   ]
  },
  {
   "cell_type": "markdown",
   "id": "6f2bd2a2",
   "metadata": {},
   "source": [
    "## Observations:\n",
    "- Temp and atemp are almost perfectly correlated almost and each of them have the same correlation with  our targeted variable Count which means that one of the two is enough to represent temperature\n",
    "- Yr is also positively correalated with Count as we saw an increase in count as year progresses\n",
    "\n"
   ]
  },
  {
   "cell_type": "code",
   "execution_count": null,
   "id": "1592bbca",
   "metadata": {},
   "outputs": [],
   "source": [
    "data1.drop(\"atemp\", axis= 1, inplace=True)"
   ]
  },
  {
   "cell_type": "markdown",
   "id": "a8324edc",
   "metadata": {},
   "source": [
    "### Feature Scaling our numerical data:- temp, atemp, humidity, Count"
   ]
  },
  {
   "cell_type": "code",
   "execution_count": null,
   "id": "f930c7b8",
   "metadata": {},
   "outputs": [],
   "source": [
    "# Let's split the data into training and test set before we scale otherwise we risk leaking data into our test set"
   ]
  },
  {
   "cell_type": "code",
   "execution_count": null,
   "id": "77bed093",
   "metadata": {},
   "outputs": [],
   "source": [
    "train_df, test_df = train_test_split(data1, train_size = 0.7, test_size=0.3, random_state=100)"
   ]
  },
  {
   "cell_type": "code",
   "execution_count": null,
   "id": "b5d83625",
   "metadata": {},
   "outputs": [],
   "source": [
    "print(train_df.shape)\n",
    "print(test_df.shape)"
   ]
  },
  {
   "cell_type": "code",
   "execution_count": null,
   "id": "d491b57f",
   "metadata": {},
   "outputs": [],
   "source": [
    "plt.figure(figsize = (25,20))\n",
    "\n",
    "sns.heatmap(train_df.corr(), annot=True)"
   ]
  },
  {
   "cell_type": "markdown",
   "id": "950defdc",
   "metadata": {},
   "source": [
    "## Observations:\n",
    "- We can see high negavtive and positive correlation\n",
    "- We need to be carefull whiloe buidling our models although majority if the data seems to have low correlation;\n"
   ]
  },
  {
   "cell_type": "code",
   "execution_count": null,
   "id": "b8123ae1",
   "metadata": {},
   "outputs": [],
   "source": [
    "scaler = MinMaxScaler() # We will use Normalization to scale the features"
   ]
  },
  {
   "cell_type": "code",
   "execution_count": null,
   "id": "05329d0b",
   "metadata": {},
   "outputs": [],
   "source": [
    "numerical_vars = [\"temp\", \"humidity\", \"windspeed\", \"Count\"]\n",
    "\n",
    "train_df[numerical_vars] = scaler.fit_transform(train_df[numerical_vars])"
   ]
  },
  {
   "cell_type": "code",
   "execution_count": null,
   "id": "390bb85d",
   "metadata": {},
   "outputs": [],
   "source": [
    "train_df[numerical_vars].describe()"
   ]
  },
  {
   "cell_type": "markdown",
   "id": "7116b8a1",
   "metadata": {},
   "source": [
    "#### All the values of our numerical variables are scaled from 0 to 1"
   ]
  },
  {
   "cell_type": "code",
   "execution_count": null,
   "id": "35e60f25",
   "metadata": {},
   "outputs": [],
   "source": [
    "train_df.head()"
   ]
  },
  {
   "cell_type": "markdown",
   "id": "e52ac588",
   "metadata": {},
   "source": [
    "## Data Modelling\n",
    "\n",
    "### Splitting the data into X_train and y_train\n",
    "\n"
   ]
  },
  {
   "cell_type": "code",
   "execution_count": null,
   "id": "eac82944",
   "metadata": {},
   "outputs": [],
   "source": [
    "y_train = train_df.pop(\"Count\")\n",
    "X_train = train_df"
   ]
  },
  {
   "cell_type": "code",
   "execution_count": null,
   "id": "c96dec3f",
   "metadata": {},
   "outputs": [],
   "source": [
    "print(y_train.shape)\n",
    "print(X_train.shape)"
   ]
  },
  {
   "cell_type": "code",
   "execution_count": null,
   "id": "a5fb6e58",
   "metadata": {},
   "outputs": [],
   "source": [
    "X_train.head()"
   ]
  },
  {
   "cell_type": "markdown",
   "id": "1e4e3c33",
   "metadata": {},
   "source": [
    "### We will first use Recursive feature elimination(RFE) and from there we will use our manual approach to eliminate other features"
   ]
  },
  {
   "cell_type": "code",
   "execution_count": null,
   "id": "9aaac275",
   "metadata": {},
   "outputs": [],
   "source": [
    "# Let's define some functions so we dont have to write the same line of code again and again\n",
    "\n",
    "def VIF_score(X):\n",
    "    vif = pd.DataFrame()\n",
    "    vif[\"features\"] = X.columns\n",
    "    vif[\"VIF\"] = [round(variance_inflation_factor(X.values, i),2) for i in range(X.shape[1])]\n",
    "    vif = vif.sort_values(by = \"VIF\", ascending=False)\n",
    "    return vif\n",
    "\n",
    "\n",
    "\n",
    "def OLS_model(X_train_data, y_train = y_train, return_model = False):\n",
    "    \n",
    "    X_train_sm = sm.add_constant(X_train_data)\n",
    "    ols = OLS(y_train, X_train_sm)\n",
    "    model = ols.fit()\n",
    "    \n",
    "    if return_model:\n",
    "        return model\n",
    "    else:\n",
    "        return model.summary()"
   ]
  },
  {
   "cell_type": "markdown",
   "id": "df3898d9",
   "metadata": {},
   "source": [
    "### For RFE we need to use Sklearn's regression model and then proceed with the estimator"
   ]
  },
  {
   "cell_type": "code",
   "execution_count": null,
   "id": "170e6747",
   "metadata": {},
   "outputs": [],
   "source": [
    "regressor = LinearRegression()\n",
    "regressor.fit(X_train, y_train)"
   ]
  },
  {
   "cell_type": "code",
   "execution_count": null,
   "id": "2db72cee",
   "metadata": {},
   "outputs": [],
   "source": [
    "rfe = RFE(regressor, n_features_to_select = 15, step = 0.35)\n",
    "rfe_model = rfe.fit(X_train, y_train)"
   ]
  },
  {
   "cell_type": "code",
   "execution_count": null,
   "id": "f84f58d8",
   "metadata": {},
   "outputs": [],
   "source": [
    "rfe_data = pd.DataFrame()\n",
    "rfe_data[\"features\"] = X_train.columns\n",
    "rfe_data[\"Support\"] = rfe_model.support_\n",
    "rfe_data[\"Rankings\"] = rfe_model.ranking_\n",
    "rfe_data.sort_values(by = \"Rankings\")"
   ]
  },
  {
   "cell_type": "markdown",
   "id": "5e10a1f1",
   "metadata": {},
   "source": [
    "### The features above with rank 1 and support true are selected by our RFE which is best suited for our regression but we will check the p-values and vif scores to see whether they are indeed the best or a manual approach is needed "
   ]
  },
  {
   "cell_type": "code",
   "execution_count": null,
   "id": "788a75a5",
   "metadata": {},
   "outputs": [],
   "source": [
    "X_train.columns[rfe_model.support_] # These are features selected by RFE"
   ]
  },
  {
   "cell_type": "code",
   "execution_count": null,
   "id": "e77f2cf6",
   "metadata": {},
   "outputs": [],
   "source": [
    "X_train_rfe_cols = X_train.columns[rfe_model.support_]\n"
   ]
  },
  {
   "cell_type": "code",
   "execution_count": null,
   "id": "515b5bef",
   "metadata": {},
   "outputs": [],
   "source": [
    "X_train_rfe = X_train[X_train_rfe_cols]\n",
    "X_train_rfe.head()"
   ]
  },
  {
   "cell_type": "code",
   "execution_count": null,
   "id": "c1e98e85",
   "metadata": {},
   "outputs": [],
   "source": [
    "OLS_model(X_train_data = X_train_rfe)\n"
   ]
  },
  {
   "cell_type": "code",
   "execution_count": null,
   "id": "348c2d37",
   "metadata": {},
   "outputs": [],
   "source": [
    "VIF_score(X = X_train_rfe)"
   ]
  },
  {
   "cell_type": "markdown",
   "id": "90d453cf",
   "metadata": {},
   "source": [
    "## Observations and Intepretation:\n",
    "- First we will emphasize features having high p-value and eliminate them\n",
    "- Eliminating certain features may alter the VIF value of some features\n",
    "- After having the p-values close to zero or atleast less than 5% (0.05) we can proceed elimianting features with high VIF values\n",
    "\n",
    "### In a broad sense we will combine RFE and manual  approach to give us the best model"
   ]
  },
  {
   "cell_type": "markdown",
   "id": "c87af459",
   "metadata": {},
   "source": [
    "## Model 1"
   ]
  },
  {
   "cell_type": "code",
   "execution_count": null,
   "id": "3bd2606e",
   "metadata": {},
   "outputs": [],
   "source": [
    "# Eliminating holiday due to high p-value\n",
    "\n",
    "X_train_rfe = X_train_rfe.drop(\"holiday\", axis = 1)\n",
    "X_train_rfe.head()"
   ]
  },
  {
   "cell_type": "code",
   "execution_count": null,
   "id": "230473e7",
   "metadata": {},
   "outputs": [],
   "source": [
    "OLS_model(X_train_data=X_train_rfe)"
   ]
  },
  {
   "cell_type": "code",
   "execution_count": null,
   "id": "125b96ce",
   "metadata": {},
   "outputs": [],
   "source": [
    "VIF_score(X = X_train_rfe)"
   ]
  },
  {
   "cell_type": "markdown",
   "id": "dffd2372",
   "metadata": {},
   "source": []
  },
  {
   "cell_type": "markdown",
   "id": "39ab2055",
   "metadata": {},
   "source": [
    "## Model 2"
   ]
  },
  {
   "cell_type": "code",
   "execution_count": null,
   "id": "0f10f96c",
   "metadata": {},
   "outputs": [],
   "source": [
    "# Eliminating humidity due to high VIf value\n",
    "X_train_rfe = X_train_rfe.drop(\"humidity\", axis = 1)\n",
    "X_train_rfe.head()"
   ]
  },
  {
   "cell_type": "code",
   "execution_count": null,
   "id": "3149b4d0",
   "metadata": {},
   "outputs": [],
   "source": [
    "OLS_model(X_train_data=X_train_rfe)"
   ]
  },
  {
   "cell_type": "code",
   "execution_count": null,
   "id": "82c35af9",
   "metadata": {},
   "outputs": [],
   "source": [
    "VIF_score(X = X_train_rfe)"
   ]
  },
  {
   "cell_type": "markdown",
   "id": "e938fe8b",
   "metadata": {},
   "source": [
    "## Model 3"
   ]
  },
  {
   "cell_type": "code",
   "execution_count": null,
   "id": "1fe8bbca",
   "metadata": {},
   "outputs": [],
   "source": [
    "# Removing workingday due to its high VIF value\n",
    "X_train_rfe = X_train_rfe.drop(\"workingday\", axis = 1)\n",
    "X_train_rfe.head()"
   ]
  },
  {
   "cell_type": "code",
   "execution_count": null,
   "id": "51ce30be",
   "metadata": {},
   "outputs": [],
   "source": [
    "OLS_model(X_train_data=X_train_rfe)"
   ]
  },
  {
   "cell_type": "markdown",
   "id": "529bdcd2",
   "metadata": {},
   "source": [
    "## Model 4"
   ]
  },
  {
   "cell_type": "code",
   "execution_count": null,
   "id": "a629d455",
   "metadata": {},
   "outputs": [],
   "source": [
    "# Removing Monday due to its high p value"
   ]
  },
  {
   "cell_type": "code",
   "execution_count": null,
   "id": "765e3f3f",
   "metadata": {},
   "outputs": [],
   "source": [
    "X_train_rfe = X_train_rfe.drop(\"Monday\", axis = 1)\n",
    "X_train_rfe.head()"
   ]
  },
  {
   "cell_type": "code",
   "execution_count": null,
   "id": "ab8aeabe",
   "metadata": {},
   "outputs": [],
   "source": [
    "VIF_score(X = X_train_rfe)"
   ]
  },
  {
   "cell_type": "markdown",
   "id": "a8ceaa1b",
   "metadata": {},
   "source": [
    "## Inference:\n",
    "- The p-values of all the features are close to zero and the VIFs are very well within 5 so we will consider Model 4 as our final model and proceed with the same\n",
    "- Also the variables are able to explain around 83% of variance which is a good sign"
   ]
  },
  {
   "cell_type": "code",
   "execution_count": null,
   "id": "c10e8229",
   "metadata": {},
   "outputs": [],
   "source": [
    "plt.figure(figsize=(20,15))\n",
    "sns.heatmap(X_train_rfe.corr(), annot=True)"
   ]
  },
  {
   "cell_type": "markdown",
   "id": "99d8ba6f",
   "metadata": {},
   "source": [
    "## Obsrvations:\n",
    "- There are no sogns of high negative or positiv correlation, the benchmark for such inference is as follows\n",
    "- We are considering anything beyond 60% as high correlation"
   ]
  },
  {
   "cell_type": "code",
   "execution_count": null,
   "id": "bf131e85",
   "metadata": {},
   "outputs": [],
   "source": [
    "lr_model = OLS_model(X_train_data=X_train_rfe, return_model=True)"
   ]
  },
  {
   "cell_type": "code",
   "execution_count": null,
   "id": "2549e563",
   "metadata": {},
   "outputs": [],
   "source": [
    "lr_model.params"
   ]
  },
  {
   "cell_type": "markdown",
   "id": "04b7686d",
   "metadata": {},
   "source": [
    "### We will have the following equation:\n",
    "Y(COUNT) = $ 0.299477 + (yr * 0.236298) + (temp * 0.377143) - (windspeed * 0.154046) - (spring * 0.105047) + (winter * 0.047588) - (December * 0.037435) - (January * 0.058615) + (September * 0.062998) - (Tuesday * 0.047060) - (Misty * 0.077965) - (snow_rain * 0.293356) $"
   ]
  },
  {
   "cell_type": "code",
   "execution_count": null,
   "id": "66f6ddcc",
   "metadata": {},
   "outputs": [],
   "source": [
    "# Before we go on and test our model on the test set, we need to validate some assumptions"
   ]
  },
  {
   "cell_type": "markdown",
   "id": "4012f5ce",
   "metadata": {},
   "source": [
    "## Assumptions of Linear Regressions are as follows :\n",
    "- There should exist some lienar relationship between X and Y\n",
    "- The error terms should be normall distributed\n",
    "- Independence of error terms\n",
    "- The error terms must show constant variation (Homoscedasticity)"
   ]
  },
  {
   "cell_type": "markdown",
   "id": "ea6f296d",
   "metadata": {},
   "source": [
    "### 1) We already proved that there exists some linear relationship earlier on in the notebook\n"
   ]
  },
  {
   "cell_type": "markdown",
   "id": "93a2b83c",
   "metadata": {},
   "source": [
    "### 2) The error terms should be normally distributed around 0"
   ]
  },
  {
   "cell_type": "code",
   "execution_count": null,
   "id": "bbd2cc3d",
   "metadata": {},
   "outputs": [],
   "source": [
    "X_train_rfe_sm = sm.add_constant(X_train_rfe)\n",
    "y_train_pred = lr_model.predict(X_train_rfe_sm)\n",
    "residuals = y_train - y_train_pred"
   ]
  },
  {
   "cell_type": "code",
   "execution_count": null,
   "id": "13f8234d",
   "metadata": {},
   "outputs": [],
   "source": [
    "sns.histplot(residuals, kde = True)\n",
    "plt.title(\"Distribution of error terms\")\n",
    "plt.xlabel(\"Error terms\")\n",
    "\n",
    "plt.gcf().set_size_inches(10,5)"
   ]
  },
  {
   "cell_type": "code",
   "execution_count": null,
   "id": "5fe7abc1",
   "metadata": {},
   "outputs": [],
   "source": [
    "np.std(residuals)"
   ]
  },
  {
   "cell_type": "code",
   "execution_count": null,
   "id": "b6f3883d",
   "metadata": {},
   "outputs": [],
   "source": [
    "np.mean(residuals)"
   ]
  },
  {
   "cell_type": "markdown",
   "id": "709ffc54",
   "metadata": {},
   "source": [
    "## Observations:\n",
    "- The mean of the residuals from the graph and from the calculation below validate our second assumptions"
   ]
  },
  {
   "cell_type": "markdown",
   "id": "6d324262",
   "metadata": {},
   "source": [
    "## The error terms must show constant variation (Homoscedasticity)"
   ]
  },
  {
   "cell_type": "code",
   "execution_count": null,
   "id": "d0f2558c",
   "metadata": {},
   "outputs": [],
   "source": [
    "sns.regplot(x = y_train_pred, y = residuals, line_kws = {\"color\" : \"red\"})\n",
    "plt.title(\"Residuals vs predicted values(y_train_pred)\")\n",
    "plt.xlabel(\"y_train_pred\", fontdict={\"fontsize\" : 14})\n",
    "plt.ylabel(\"Residuals\", fontdict={\"fontsize\" : 14})\n",
    "plt.gcf().set_size_inches(10,8)"
   ]
  },
  {
   "cell_type": "markdown",
   "id": "bbe1a6aa",
   "metadata": {},
   "source": [
    "## Observations:\n",
    "- No visibile pattern can be noticed and this indicates that there is now lower or higher concentration of points and the residuals are evenly distributed\n",
    "- The graph above proves our 3rd and 4th assumption of linear regressions\n",
    "\n"
   ]
  },
  {
   "cell_type": "markdown",
   "id": "38798728",
   "metadata": {},
   "source": []
  },
  {
   "cell_type": "code",
   "execution_count": null,
   "id": "c6901e88",
   "metadata": {},
   "outputs": [],
   "source": [
    "lr_model.params"
   ]
  },
  {
   "cell_type": "markdown",
   "id": "4b784652",
   "metadata": {},
   "source": [
    "## Let's interprete these features one by one\n",
    "### -  Yr - For every increase in variable Yr the Count increases by 0.236298 units\n",
    "### -  temp - For every increase in variable Temp the Count increases by 0.377143 units\n",
    "### -  windspeed - For every increase in variable windspeed the Count decreases by 0.154046 units\n",
    "### -  spring - For every increase in variable spring the Count decreases by 0.105047 units\n",
    "### -  winter - For every increase in variable winter the Count increases by 0.047588 units\n",
    "### -  December - For every increase in variable December the Count decreases by 0.037435 units\n",
    "### -  January -  For every increase in variable January the Count decreases by 0.058615 units\n",
    "### -  September - For every increase in variable September the Count increases by 0.062998 units\n",
    "### -  Tuesday - For every increase in variable March the Count increases by 0.047060 units\n",
    "### -  misty- For every increase in variable Ideal the Count increases by 0.077965 units\n",
    "### -  snow_rain - For every increase in variable snow_rain the Count decreases by 0.293356 units\n"
   ]
  },
  {
   "cell_type": "code",
   "execution_count": null,
   "id": "9645498b",
   "metadata": {},
   "outputs": [],
   "source": [
    "# The variables matches with our analysis in EDA, as the temp decreases there is a decrease in rentals and as the temp increases we see a increase in rentals\n",
    "# the weather condition \"snow_rain\" also states tells us that people prefer riding bikes when the weather is Ideal and Misty\n",
    "# We also saw a moderately negative linear relationship of windspeed vs count and this model also conveys the same\n",
    "# For months we can see that w.r.t September the count actually shows signs of decrease for January and february which also compliments our analysis in EDA \n",
    "# The yr variable also shows a positive relationship with count; the same which we deduced\n",
    "# Our model considering the variables should be able to explain the data well cause it compliments our analysis in EDA"
   ]
  },
  {
   "cell_type": "markdown",
   "id": "34921492",
   "metadata": {},
   "source": [
    "### We have proved all the assumption of Linear Regression and its time to actually test our model on the test set and see how it performs"
   ]
  },
  {
   "cell_type": "markdown",
   "id": "03457295",
   "metadata": {},
   "source": [
    "## Evaluating our Model on the Test set\n",
    "### -  First we will scale all the values using the object (scaler) whci hwe used to scale the features of our training            set\n",
    "### -  We will split the test set into X_test and y_test\n",
    "### -  Then we will remove all the unecessary columns from our X_test and perform our final pre processing on                X-test\n",
    "### -  And finally we make our model predict the value based on the data(X_test) supplied"
   ]
  },
  {
   "cell_type": "markdown",
   "id": "749f691c",
   "metadata": {},
   "source": [
    "### Scaling our Test set"
   ]
  },
  {
   "cell_type": "code",
   "execution_count": null,
   "id": "80cc183c",
   "metadata": {},
   "outputs": [],
   "source": [
    "test_df\n",
    "\n"
   ]
  },
  {
   "cell_type": "code",
   "execution_count": null,
   "id": "3ad3295c",
   "metadata": {},
   "outputs": [],
   "source": [
    "test_df[numerical_vars] = scaler.transform(test_df[numerical_vars])\n",
    "test_df"
   ]
  },
  {
   "cell_type": "markdown",
   "id": "38989cae",
   "metadata": {},
   "source": [
    "### Splitting our test set into X_test and y_test"
   ]
  },
  {
   "cell_type": "code",
   "execution_count": null,
   "id": "6d0f7fb7",
   "metadata": {},
   "outputs": [],
   "source": [
    "y_test = test_df.pop(\"Count\")\n",
    "X_test = test_df"
   ]
  },
  {
   "cell_type": "markdown",
   "id": "25accfbf",
   "metadata": {},
   "source": [
    "### Dropping uncessary columns"
   ]
  },
  {
   "cell_type": "code",
   "execution_count": null,
   "id": "78a252dc",
   "metadata": {},
   "outputs": [],
   "source": [
    "X_train_rfe.columns"
   ]
  },
  {
   "cell_type": "code",
   "execution_count": null,
   "id": "eb3c3c3b",
   "metadata": {},
   "outputs": [],
   "source": [
    "X_test = X_test[X_train_rfe.columns]\n",
    "X_test"
   ]
  },
  {
   "cell_type": "markdown",
   "id": "0ce4bebd",
   "metadata": {},
   "source": [
    "### Final Pre-processing"
   ]
  },
  {
   "cell_type": "code",
   "execution_count": null,
   "id": "d5f1feaf",
   "metadata": {},
   "outputs": [],
   "source": [
    "X_test_sm = sm.add_constant(X_test)"
   ]
  },
  {
   "cell_type": "markdown",
   "id": "407e1d31",
   "metadata": {},
   "source": [
    "### Predicting and evaluating the score"
   ]
  },
  {
   "cell_type": "code",
   "execution_count": null,
   "id": "a3d977e7",
   "metadata": {},
   "outputs": [],
   "source": [
    "y_pred_test = lr_model.predict(X_test_sm)"
   ]
  },
  {
   "cell_type": "code",
   "execution_count": null,
   "id": "ae23d07a",
   "metadata": {},
   "outputs": [],
   "source": [
    "r2_score(y_true=y_test, y_pred = y_pred_test)"
   ]
  },
  {
   "cell_type": "code",
   "execution_count": null,
   "id": "6d28ad51",
   "metadata": {},
   "outputs": [],
   "source": [
    "print(f\"The accuracy of our model is {round(r2_score(y_true=y_test, y_pred = y_pred_test), 2) * 100}%\")"
   ]
  },
  {
   "cell_type": "code",
   "execution_count": null,
   "id": "a474eabe",
   "metadata": {},
   "outputs": [],
   "source": [
    "sns.regplot(x = y_test, y = y_pred_test, line_kws = {\"color\" : \"red\"})\n",
    "plt.gcf().set_size_inches(10,4)\n",
    "plt.title(\"Actual Values vs Preicted Values\")\n",
    "plt.xlabel(\"True values\")\n",
    "plt.ylabel('Predicted values')"
   ]
  },
  {
   "cell_type": "markdown",
   "id": "1c099145",
   "metadata": {},
   "source": [
    "## Observations:\n",
    "- Our model was able to predict well, that means the model was able to generalise on the data with 80% accuracy\n",
    "- Now we can use this model to conclude and achieve our buisness goals"
   ]
  },
  {
   "cell_type": "code",
   "execution_count": null,
   "id": "4e510d8b",
   "metadata": {},
   "outputs": [],
   "source": [
    "lr_model.params"
   ]
  },
  {
   "cell_type": "code",
   "execution_count": null,
   "id": "f1b1e92e",
   "metadata": {},
   "outputs": [],
   "source": [
    "# The top three significant variables are: yr, temp and snow_rain\n"
   ]
  },
  {
   "cell_type": "markdown",
   "id": "7f7eda68",
   "metadata": {},
   "source": [
    "## Conclusion:\n",
    "- BoomBikes already had a market for Bike rental which is explained by \"const\" which is 0.2999477 which is great for the company, so they can expect growth despite little investment, the reason for this trend could be that people are trying to reduce their carbon footprint and were encouraged to rather cycle; but there are sevral other factors as well like having fun, riding bikes to school, mountain biking wheere in most cases people tend to rent theri bikes because it porves to be cheapre to them cause they dont have to incur transport charges along with other miscellaneous charges with comes along you can refer the article below which goes along with our timeline: https://www.forbes.com/sites/timnewcomb/2020/07/13/amidst-cycling-surge-sport-of-mountain-biking-seeing-increased-sales-trail-usage/?sh=2c8fcbae3ddf\n",
    "\n",
    "- Boom bikes should expand their business in the month of September as it shows the highest level of bikes rented\n",
    "\n",
    "- Boom Bike should also see that they hand out lucrative offers when the weather conditions are Ideal and temperatures slightly on the higher end cause according to the data and model this will yield maximum rental bookings, the model also concludes that  BoomBikes should also focus more offers and equipments during winters as it may help drive the rental up in those months.\n",
    "\n",
    "- From the EDA it was clear that the Fall, summer and winter had comparitively higher rental bookings, so Boom bikes must consider investing in its offers and promotion during these seasons and the months falling in these seasons.\n",
    "\n",
    "- Last but not the least BoomBikes should increase their investments every year as we can saw that the company has the potential to grow maybe not in the pandemics as people were advised to  quarantine themselves but post covid where people are more likely and eager to enjoy the outdoors and rides, the company can see a tremendous growth coupled with the scenarios above they can successfully attract more customers."
   ]
  },
  {
   "cell_type": "code",
   "execution_count": null,
   "id": "ba1f5469",
   "metadata": {},
   "outputs": [],
   "source": []
  },
  {
   "cell_type": "code",
   "execution_count": null,
   "id": "ada2e678",
   "metadata": {},
   "outputs": [],
   "source": []
  },
  {
   "cell_type": "code",
   "execution_count": null,
   "id": "f69afa5f",
   "metadata": {},
   "outputs": [],
   "source": []
  },
  {
   "cell_type": "code",
   "execution_count": null,
   "id": "83b2ef74",
   "metadata": {},
   "outputs": [],
   "source": []
  },
  {
   "cell_type": "code",
   "execution_count": null,
   "id": "021fa5cb",
   "metadata": {},
   "outputs": [],
   "source": []
  },
  {
   "cell_type": "code",
   "execution_count": null,
   "id": "d24ddaf0",
   "metadata": {},
   "outputs": [],
   "source": []
  },
  {
   "cell_type": "code",
   "execution_count": null,
   "id": "d446d3e1",
   "metadata": {},
   "outputs": [],
   "source": []
  },
  {
   "cell_type": "code",
   "execution_count": null,
   "id": "5614d6d1",
   "metadata": {},
   "outputs": [],
   "source": [
    "\n"
   ]
  }
 ],
 "metadata": {
  "kernelspec": {
   "display_name": "Python 3 (ipykernel)",
   "language": "python",
   "name": "python3"
  },
  "language_info": {
   "codemirror_mode": {
    "name": "ipython",
    "version": 3
   },
   "file_extension": ".py",
   "mimetype": "text/x-python",
   "name": "python",
   "nbconvert_exporter": "python",
   "pygments_lexer": "ipython3",
   "version": "3.8.12"
  }
 },
 "nbformat": 4,
 "nbformat_minor": 5
}
